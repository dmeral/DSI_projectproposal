{
 "cells": [
  {
   "cell_type": "code",
   "execution_count": 1,
   "metadata": {},
   "outputs": [
    {
     "ename": "NameError",
     "evalue": "name '__file__' is not defined",
     "output_type": "error",
     "traceback": [
      "\u001b[0;31m---------------------------------------------------------------------------\u001b[0m",
      "\u001b[0;31mNameError\u001b[0m                                 Traceback (most recent call last)",
      "\u001b[0;32m<ipython-input-1-85f8708e6b65>\u001b[0m in \u001b[0;36m<module>\u001b[0;34m()\u001b[0m\n\u001b[1;32m     64\u001b[0m \u001b[0;34m\u001b[0m\u001b[0m\n\u001b[1;32m     65\u001b[0m     \u001b[0;31m# info for retrieving and extracting the zip file\u001b[0m\u001b[0;34m\u001b[0m\u001b[0;34m\u001b[0m\u001b[0m\n\u001b[0;32m---> 66\u001b[0;31m     \u001b[0mthis_dir\u001b[0m \u001b[0;34m=\u001b[0m \u001b[0mos\u001b[0m\u001b[0;34m.\u001b[0m\u001b[0mpath\u001b[0m\u001b[0;34m.\u001b[0m\u001b[0mdirname\u001b[0m\u001b[0;34m(\u001b[0m\u001b[0mos\u001b[0m\u001b[0;34m.\u001b[0m\u001b[0mpath\u001b[0m\u001b[0;34m.\u001b[0m\u001b[0mrealpath\u001b[0m\u001b[0;34m(\u001b[0m\u001b[0m__file__\u001b[0m\u001b[0;34m)\u001b[0m\u001b[0;34m)\u001b[0m\u001b[0;34m\u001b[0m\u001b[0m\n\u001b[0m\u001b[1;32m     67\u001b[0m     \u001b[0mzip_file\u001b[0m \u001b[0;34m=\u001b[0m \u001b[0;34m'http://quantquote.com/files/quantquote_daily_sp500_83986.zip'\u001b[0m\u001b[0;34m\u001b[0m\u001b[0m\n\u001b[1;32m     68\u001b[0m     \u001b[0mzip_dir\u001b[0m \u001b[0;34m=\u001b[0m \u001b[0;34m'quantquote_daily_sp500_83986/'\u001b[0m\u001b[0;34m\u001b[0m\u001b[0m\n",
      "\u001b[0;31mNameError\u001b[0m: name '__file__' is not defined"
     ]
    }
   ],
   "source": [
    "import os\n",
    "from six.moves import urllib\n",
    "import zipfile\n",
    "from bokeh.util.string import encode_utf8\n",
    "\n",
    "\n",
    "def extract_hosted_zip(data_url, save_dir, exclude_term=None):\n",
    "    \"\"\"Downloads, then extracts a zip file.\"\"\"\n",
    "\n",
    "    zip_name = os.path.join(save_dir, 'temp.zip')\n",
    "\n",
    "    # get the zip file\n",
    "    try:\n",
    "        print('Downloading %r to %r' % (data_url, zip_name))\n",
    "        zip_name, hdrs = urllib.request.urlretrieve(url=data_url, filename=zip_name)\n",
    "        print('Download successfully completed')\n",
    "    except IOError as e:\n",
    "        print(\"Could not successfully retrieve %r\" % data_url)\n",
    "        raise e\n",
    "\n",
    "    # extract, then remove temp file\n",
    "    extract_zip(zip_name=zip_name, exclude_term=exclude_term)\n",
    "    os.unlink(zip_name)\n",
    "    print(\"Extraction Complete\")\n",
    "\n",
    "\n",
    "def extract_zip(zip_name, exclude_term=None):\n",
    "    \"\"\"Extracts a zip file to its containing directory.\"\"\"\n",
    "\n",
    "    zip_dir = os.path.dirname(os.path.abspath(zip_name))\n",
    "\n",
    "    try:\n",
    "        with zipfile.ZipFile(zip_name) as z:\n",
    "\n",
    "            # write each zipped file out if it isn't a directory\n",
    "            files = [zip_file for zip_file in z.namelist() if not zip_file.endswith('/')]\n",
    "\n",
    "            print('Extracting %i files from %r.' % (len(files), zip_name))\n",
    "            for zip_file in files:\n",
    "\n",
    "                # remove any provided extra directory term from zip file\n",
    "                if exclude_term:\n",
    "                    dest_file = zip_file.replace(exclude_term, '')\n",
    "                else:\n",
    "                    dest_file = zip_file\n",
    "\n",
    "                dest_file = os.path.normpath(os.path.join(zip_dir, dest_file))\n",
    "                dest_dir = os.path.dirname(dest_file)\n",
    "\n",
    "                # make directory if it does not exist\n",
    "                if not os.path.isdir(dest_dir):\n",
    "                    os.makedirs(dest_dir)\n",
    "\n",
    "                # read file from zip, then write to new directory\n",
    "                data = z.read(zip_file)\n",
    "                with open(dest_file, 'wb') as f:\n",
    "                    f.write(encode_utf8(data))\n",
    "\n",
    "    except zipfile.error as e:\n",
    "        print(\"Bad zipfile (%r): %s\" % (zip_name, e))\n",
    "        raise e\n",
    "\n",
    "if __name__ == '__main__':\n",
    "\n",
    "    # info for retrieving and extracting the zip file\n",
    "    this_dir = os.path.dirname(os.path.realpath(__file__))\n",
    "    zip_file = 'http://quantquote.com/files/quantquote_daily_sp500_83986.zip'\n",
    "    zip_dir = 'quantquote_daily_sp500_83986/'\n",
    "\n",
    "    extract_hosted_zip(data_url=zip_file, save_dir=this_dir, exclude_term=zip_dir)"
   ]
  },
  {
   "cell_type": "code",
   "execution_count": null,
   "metadata": {},
   "outputs": [],
   "source": []
  }
 ],
 "metadata": {
  "kernelspec": {
   "display_name": "Python 3",
   "language": "python",
   "name": "python3"
  },
  "language_info": {
   "codemirror_mode": {
    "name": "ipython",
    "version": 3
   },
   "file_extension": ".py",
   "mimetype": "text/x-python",
   "name": "python",
   "nbconvert_exporter": "python",
   "pygments_lexer": "ipython3",
   "version": "3.6.4"
  }
 },
 "nbformat": 4,
 "nbformat_minor": 2
}
