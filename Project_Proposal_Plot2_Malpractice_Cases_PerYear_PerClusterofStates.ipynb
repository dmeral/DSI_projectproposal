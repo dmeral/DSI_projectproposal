{
 "cells": [
  {
   "cell_type": "code",
   "execution_count": 1,
   "metadata": {},
   "outputs": [],
   "source": [
    "import numpy as np\n",
    "import matplotlib.pyplot as plt\n",
    "import scipy\n",
    "from scipy import stats\n",
    "import pandas as pd\n",
    "from math import *\n",
    "import seaborn as sns\n",
    "from mpl_toolkits.basemap import Basemap"
   ]
  },
  {
   "cell_type": "code",
   "execution_count": 2,
   "metadata": {},
   "outputs": [],
   "source": [
    "data = pd.read_csv('NpdbPublicUseDataCsv/NPDB1710.CSV',delimiter=',',low_memory=False)"
   ]
  },
  {
   "cell_type": "code",
   "execution_count": 36,
   "metadata": {
    "scrolled": true
   },
   "outputs": [],
   "source": [
    "state_pop = pd.read_excel('nst-est2016-01.xlsx',header=3,skip_footer=5)\n",
    "\n",
    "new_index_list = {}\n",
    "for s_label in state_pop.index:\n",
    "    try:\n",
    "        if s_label[0]=='.':\n",
    "            new_index_list.update({s_label: s_label[1:]})\n",
    "        else:\n",
    "            new_index_list.update({s_label: s_label})\n",
    "    except:\n",
    "        new_index_list.update({s_label: 'unknown'})\n",
    "\n",
    "#print(new_index_list)\n",
    "state_pop.rename(new_index_list, axis='index',inplace=True)\n",
    "#state_pop"
   ]
  },
  {
   "cell_type": "code",
   "execution_count": 37,
   "metadata": {
    "scrolled": false
   },
   "outputs": [],
   "source": [
    "#data.hist(column='ORIGYEAR',bins=2018-1990,range=(1990,2018),alpha=0.5,by='WORKSTAT',figsize=(20,40),layout=(13,5))\n",
    "#plt.show()"
   ]
  },
  {
   "cell_type": "code",
   "execution_count": 38,
   "metadata": {},
   "outputs": [],
   "source": [
    "common_states = np.intersect1d(list(data[\"WORKSTAT\"].unique()),list(state_pop[\"State Abb\"]))"
   ]
  },
  {
   "cell_type": "code",
   "execution_count": 39,
   "metadata": {},
   "outputs": [],
   "source": [
    "data[\"PAYMENT\"].replace('[\\$,]', '', regex=True, inplace=True)"
   ]
  },
  {
   "cell_type": "code",
   "execution_count": null,
   "metadata": {},
   "outputs": [],
   "source": [
    "pay_count = None\n",
    "for state in common_states:\n",
    "    #print(state)\n",
    "    arrays = [[state,state], ['pay_per_case', 'count_per_10000']]\n",
    "    column_names = pd.MultiIndex.from_arrays(arrays).T\n",
    "    mean_payment = [pd.to_numeric(data[(data[\"WORKSTAT\"]==state) & (data[\"ORIGYEAR\"]==i)]['PAYMENT']).mean() for i in range(1990,2018)]\n",
    "    count_per_capita = [10000*len(data[(data[\"WORKSTAT\"]==state) & (data[\"ORIGYEAR\"]==i)])/state_pop[state_pop[\"State Abb\"]==state][2016][0] for i in range(1990,2018)]\n",
    "    stack = pd.DataFrame(np.stack((mean_payment,\n",
    "                                   count_per_capita),axis=0).T,\n",
    "                         columns=column_names,\n",
    "                         index=range(1990,2018))\n",
    "    #print(stack)\n",
    "    if type(pay_count)==None:\n",
    "        pay_count = stack\n",
    "    else:\n",
    "        pay_count = pd.concat([pay_count, stack], axis=1)"
   ]
  },
  {
   "cell_type": "code",
   "execution_count": 40,
   "metadata": {},
   "outputs": [],
   "source": [
    "correlation_count = np.zeros((len(common_states),len(common_states)))\n",
    "\n",
    "for state1 in range(len(common_states)):\n",
    "    for state2 in range(len(common_states)):\n",
    "        slope, intercept, rvalue, pvalue, stderr = scipy.stats.linregress(pay_count[common_states[state1],\"count_per_10000\"],pay_count[common_states[state2],\"count_per_10000\"])\n",
    "        correlation_count[state1,state2] = rvalue\n",
    "\n",
    "\n",
    "#plt.hist((correlation_count+1).flatten())\n",
    "#plt.show()"
   ]
  },
  {
   "cell_type": "code",
   "execution_count": 82,
   "metadata": {},
   "outputs": [
    {
     "data": {
      "text/plain": [
       "array([ 0,  1,  2,  1,  2,  2,  0,  3,  4,  2,  2,  5,  2,  6,  2,  7,  2,\n",
       "        8,  6,  2,  9, 10,  2, 11,  2,  2,  2, 12,  4, 13, 14, 15, 16,  6,\n",
       "        2,  2, 17,  6,  2, 18, 19,  1, 20,  2, 21, 22,  0, 23,  6, 24,  2,\n",
       "       16])"
      ]
     },
     "execution_count": 82,
     "metadata": {},
     "output_type": "execute_result"
    }
   ],
   "source": [
    "from sklearn.cluster import DBSCAN\n",
    "# Compute DBSCAN\n",
    "\n",
    "db = DBSCAN(eps=0.56, min_samples=1,metric='precomputed').fit_predict(1/(correlation_count+1))\n",
    "#core_samples_mask = np.zeros_like(db.labels_, dtype=bool)\n",
    "#core_samples_mask[db.core_sample_indices_] = True\n",
    "#db"
   ]
  },
  {
   "cell_type": "code",
   "execution_count": 83,
   "metadata": {
    "scrolled": true
   },
   "outputs": [],
   "source": [
    "delta_count = []\n",
    "std_delta_count = []\n",
    "for state in common_states:\n",
    "    slope = np.array(pay_count[state]['count_per_10000'][2:])-np.array(pay_count[state]['count_per_10000'][1:-1])\n",
    "    delta_count.append(np.mean(np.array(slope)))\n",
    "    std_delta_count.append(np.std(np.array(slope)))\n",
    "    #print(state, np.mean(np.array(slope)), np.std(np.array(slope)))"
   ]
  },
  {
   "cell_type": "code",
   "execution_count": 85,
   "metadata": {
    "scrolled": true
   },
   "outputs": [],
   "source": [
    "for i in range(len(np.unique(db))):\n",
    "    #print(\"CLUSTER \"+str(i))\n",
    "    #data[data[\"WORKSTAT\"].isin(list(common_states[np.where(db==i)]))].hist(column='ORIGYEAR',bins=2018-1990,range=(1990,2018),alpha=0.5,by='WORKSTAT',figsize=(20,40),layout=(7,3))\n",
    "    #plt.show()\n",
    "    slope = []\n",
    "    for state in list(common_states[np.where(db==i)]):\n",
    "    #    plt.plot(pay_count.index,pay_count[state]['count_per_10000'])\n",
    "        #print(np.array(pay_count[state]['count_per_10000'].iloc[1:]))\n",
    "        #print(pay_count[state]['count_per_10000'][:-1])\n",
    "        slope.append(np.array(pay_count[state]['count_per_10000'][2:])-np.array(pay_count[state]['count_per_10000'][1:-1]))\n",
    "    #plt.show()\n",
    "    #print(slope)\n",
    "    #print(np.mean(np.array(slope).flatten()),np.std(np.array(slope).flatten()))\n",
    "    "
   ]
  },
  {
   "cell_type": "code",
   "execution_count": 46,
   "metadata": {},
   "outputs": [],
   "source": [
    "from bokeh.io import show\n",
    "from bokeh.models import (\n",
    "    ColumnDataSource,\n",
    "    HoverTool,\n",
    "    LogColorMapper,\n",
    "    LabelSet,\n",
    "    Label\n",
    ")\n",
    "from bokeh.palettes import Viridis6 as palette\n",
    "from bokeh.plotting import figure"
   ]
  },
  {
   "cell_type": "code",
   "execution_count": 48,
   "metadata": {},
   "outputs": [],
   "source": [
    "from bokeh.sampledata.us_states import data as states\n",
    "\n",
    "del states[\"HI\"]\n",
    "del states[\"AK\"]\n",
    "\n",
    "palette.reverse()"
   ]
  },
  {
   "cell_type": "code",
   "execution_count": 49,
   "metadata": {},
   "outputs": [],
   "source": [
    "states = {\n",
    "    code: state for code, state in states.items()\n",
    "}\n",
    "#print(states)"
   ]
  },
  {
   "cell_type": "code",
   "execution_count": 50,
   "metadata": {},
   "outputs": [],
   "source": [
    "state_xs = [states[code][\"lons\"] for code in states]\n",
    "state_ys = [states[code][\"lats\"] for code in states]"
   ]
  },
  {
   "cell_type": "code",
   "execution_count": 51,
   "metadata": {},
   "outputs": [],
   "source": [
    "state_names = [state['name'] for state in states.values()]"
   ]
  },
  {
   "cell_type": "code",
   "execution_count": 52,
   "metadata": {
    "scrolled": true
   },
   "outputs": [],
   "source": [
    "state_rates = []\n",
    "for name in state_names:\n",
    "    abbr = state_pop.loc[name][\"State Abb\"]\n",
    "    state_rates.append(delta_count[np.where(common_states==abbr)[0][0]])"
   ]
  },
  {
   "cell_type": "code",
   "execution_count": 53,
   "metadata": {},
   "outputs": [],
   "source": [
    "lat_inkm = 111.132 ## at around lat = 45degrees from the wiki latitude page\n",
    "lon_inkm = 78.847"
   ]
  },
  {
   "cell_type": "code",
   "execution_count": 54,
   "metadata": {},
   "outputs": [],
   "source": [
    "text_position_x = []\n",
    "for statex in state_xs:\n",
    "    text_position_x.append(float(\"%.5f\" % round(max(statex)-(max(statex)-min(statex))/2,5)))\n",
    "    \n",
    "text_position_y = []\n",
    "for statey in state_ys:\n",
    "    text_position_y.append(float(\"%.5f\" % round(max(statey)-(max(statey)-min(statey))/2,5)))"
   ]
  },
  {
   "cell_type": "code",
   "execution_count": 55,
   "metadata": {},
   "outputs": [],
   "source": [
    "from bokeh.palettes import Spectral11,Category10\n",
    "\n",
    "db_order = []\n",
    "for name in state_names:\n",
    "    abbr = state_pop.loc[name][\"State Abb\"]\n",
    "    db_order.append(db[np.where(common_states==abbr)[0][0]])"
   ]
  },
  {
   "cell_type": "code",
   "execution_count": 56,
   "metadata": {},
   "outputs": [],
   "source": [
    "db_spectral = []\n",
    "for i in db_order:\n",
    "    #print(i,len(np.where(db_order==i)[0]),i%11)\n",
    "    if len(np.where(db_order==i)[0])==1:\n",
    "        db_spectral.append(-1)\n",
    "    if len(np.where(db_order==i)[0])>1:\n",
    "        db_spectral.append(i)\n",
    "        \n",
    "#print(db_spectral)\n",
    "db_spectral_arr = np.array(db_spectral)\n",
    "#print(np.unique(db_spectral_arr[np.where(db_spectral_arr!=-1)[0]]))\n",
    "ordered = 0\n",
    "for label in np.unique(db_spectral_arr[np.where(db_spectral_arr!=-1)[0]]):\n",
    "    db_spectral_arr[np.where(db_spectral_arr==label)[0]]=ordered\n",
    "    ordered += 1"
   ]
  },
  {
   "cell_type": "code",
   "execution_count": 57,
   "metadata": {},
   "outputs": [],
   "source": [
    "state_clusters = []\n",
    "for i in range(len(db_spectral_arr)):\n",
    "    if db_spectral_arr[i]==-1:\n",
    "        state_clusters.append('black')\n",
    "    else:\n",
    "        state_clusters.append(Category10[10][db_spectral_arr[i]])"
   ]
  },
  {
   "cell_type": "code",
   "execution_count": 58,
   "metadata": {},
   "outputs": [],
   "source": [
    "from bokeh.models import LogColorMapper, LogTicker, ColorBar\n",
    "from bokeh.resources import CDN\n",
    "from bokeh.embed import file_html"
   ]
  },
  {
   "cell_type": "code",
   "execution_count": 1,
   "metadata": {},
   "outputs": [
    {
     "ename": "NameError",
     "evalue": "name 'LogColorMapper' is not defined",
     "output_type": "error",
     "traceback": [
      "\u001b[0;31m---------------------------------------------------------------------------\u001b[0m",
      "\u001b[0;31mNameError\u001b[0m                                 Traceback (most recent call last)",
      "\u001b[0;32m<ipython-input-1-ccbbc5a3adb3>\u001b[0m in \u001b[0;36m<module>\u001b[0;34m()\u001b[0m\n\u001b[1;32m      1\u001b[0m \u001b[0;32mfrom\u001b[0m \u001b[0mbokeh\u001b[0m\u001b[0;34m.\u001b[0m\u001b[0mio\u001b[0m \u001b[0;32mimport\u001b[0m \u001b[0mexport_png\u001b[0m\u001b[0;34m\u001b[0m\u001b[0m\n\u001b[1;32m      2\u001b[0m \u001b[0;34m\u001b[0m\u001b[0m\n\u001b[0;32m----> 3\u001b[0;31m \u001b[0mcolor_mapper\u001b[0m \u001b[0;34m=\u001b[0m \u001b[0mLogColorMapper\u001b[0m\u001b[0;34m(\u001b[0m\u001b[0mpalette\u001b[0m\u001b[0;34m=\u001b[0m\u001b[0mpalette\u001b[0m\u001b[0;34m,\u001b[0m \u001b[0mlow\u001b[0m\u001b[0;34m=\u001b[0m\u001b[0mmin\u001b[0m\u001b[0;34m(\u001b[0m\u001b[0mstate_rates\u001b[0m\u001b[0;34m)\u001b[0m\u001b[0;34m,\u001b[0m \u001b[0mhigh\u001b[0m\u001b[0;34m=\u001b[0m\u001b[0mmax\u001b[0m\u001b[0;34m(\u001b[0m\u001b[0mstate_rates\u001b[0m\u001b[0;34m)\u001b[0m\u001b[0;34m)\u001b[0m\u001b[0;34m\u001b[0m\u001b[0m\n\u001b[0m\u001b[1;32m      4\u001b[0m \u001b[0;34m\u001b[0m\u001b[0m\n\u001b[1;32m      5\u001b[0m \u001b[0;34m\u001b[0m\u001b[0m\n",
      "\u001b[0;31mNameError\u001b[0m: name 'LogColorMapper' is not defined"
     ]
    }
   ],
   "source": [
    "from bokeh.io import export_png\n",
    "\n",
    "color_mapper = LogColorMapper(palette=palette, low=min(state_rates), high=max(state_rates))\n",
    "\n",
    "\n",
    "source = ColumnDataSource(data=dict(\n",
    "    x=state_xs,\n",
    "    y=state_ys,\n",
    "    name=state_names,\n",
    "    rate=state_rates,\n",
    "    clusters=state_clusters,\n",
    "))\n",
    "\n",
    "TOOLS = \"pan,wheel_zoom,reset,hover,save\"\n",
    "\n",
    "p = figure(title=\"Change in the number of malpractice cases filed per 10,000 citizens per states, 1990-2018\", \n",
    "    plot_width=int((max(max(state_xs))-min(min(state_xs)))*lon_inkm/4.5), \n",
    "    plot_height=int((max(max(state_ys))-min(min(state_ys)))*lat_inkm/4.5), tools=TOOLS,\n",
    "    x_axis_location=None, y_axis_location=None\n",
    ")\n",
    "p.grid.grid_line_color = None\n",
    "\n",
    "p.patches('x', 'y', source=source,\n",
    "          fill_color={'field': 'rate', 'transform': color_mapper},\n",
    "          fill_alpha=0.7, line_color=\"white\", line_width=0.5)\n",
    "\n",
    "color_bar = ColorBar(color_mapper=color_mapper, ticker=LogTicker(),\n",
    "                     label_standoff=12, border_line_color=None, location=(0,0))\n",
    "\n",
    "p.add_layout(color_bar, 'right')\n",
    "\n",
    "source2 = ColumnDataSource(data=dict(\n",
    "    x=text_position_x,\n",
    "    y=text_position_y,\n",
    "    name=state_names,\n",
    "    rate=state_rates,\n",
    "    clusters=state_clusters,\n",
    "))\n",
    "\n",
    "#labels = LabelSet(x='x', y='y', text='name', level='glyph',\n",
    "#              x_offset=-15, y_offset=-1, source=source2,\n",
    "#                  text_color='clusters',render_mode='canvas')\n",
    "\n",
    "#p.add_layout(labels)\n",
    "\n",
    "hover = p.select_one(HoverTool)\n",
    "hover.point_policy = \"follow_mouse\"\n",
    "hover.tooltips =\"\"\"\n",
    "    <font size=\"3\">State: <strong>@name</strong> </font> <br>\n",
    "    <font size=\"3\">Change in the number of malpractice cases </font> <br>\n",
    "    <font size=\"3\">per year from 1990 to 2018: <strong>@rate per 10,000</strong> </font>\n",
    "\"\"\"\n",
    "from bokeh.io import save, output_notebook\n",
    "#output_notebook()\n",
    "\n",
    "#save(p, filename=\"malpractice.html\", title=\"Medical Malpractice\", resource='cdn')\n",
    "\n",
    "#export_png(p, filename='malpractice.png')\n",
    "\n",
    "#output_file(\"Map_of_malpractice_cases.html\",title=\"Map of malpractice cases\")\n",
    "#p.save_figure(\"malpractice.png\",dpi=300)\n",
    "#show(p)\n",
    "\n",
    "\n",
    "\n"
   ]
  },
  {
   "cell_type": "code",
   "execution_count": 105,
   "metadata": {},
   "outputs": [],
   "source": [
    "#common_states[np.where(db==2)]"
   ]
  },
  {
   "cell_type": "code",
   "execution_count": 106,
   "metadata": {
    "scrolled": false
   },
   "outputs": [],
   "source": [
    "all_slopes = []\n",
    "for i in range(len(np.unique(db))):\n",
    "    #print(\"CLUSTER \"+str(i))\n",
    "    #data[data[\"WORKSTAT\"].isin(list(common_states[np.where(db==i)]))].hist(column='ORIGYEAR',bins=2018-1990,range=(1990,2018),alpha=0.5,by='WORKSTAT',figsize=(20,40),layout=(6,3))\n",
    "    #plt.show()\n",
    "    slope = []\n",
    "    for state in list(common_states[np.where(db==i)]):\n",
    "        #plt.plot(pay_count.index,pay_count[state]['count_per_10000'])\n",
    "        #print(np.array(pay_count[state]['count_per_10000'].iloc[1:]))\n",
    "        #print(pay_count[state]['count_per_10000'][:-1])\n",
    "        slope.append(np.mean(np.array(pay_count[state]['count_per_10000'][2:])-np.array(pay_count[state]['count_per_10000'][1:-1])))\n",
    "    #plt.show()\n",
    "    all_slopes.append(slope)\n",
    "    #print(slope)\n",
    "    #print(np.mean(np.array(slope).flatten()),np.std(np.array(slope).flatten()))\n",
    "\n",
    "#print(all_slopes[2])\n",
    "#print(len(all_slopes[2]))"
   ]
  },
  {
   "cell_type": "code",
   "execution_count": 109,
   "metadata": {},
   "outputs": [
    {
     "data": {
      "text/html": [
       "\n",
       "    <div class=\"bk-root\">\n",
       "        <a href=\"https://bokeh.pydata.org\" target=\"_blank\" class=\"bk-logo bk-logo-small bk-logo-notebook\"></a>\n",
       "        <span id=\"df514098-d9ed-421e-9920-d2f3c07a6bae\">Loading BokehJS ...</span>\n",
       "    </div>"
      ]
     },
     "metadata": {},
     "output_type": "display_data"
    },
    {
     "data": {
      "application/javascript": [
       "\n",
       "(function(root) {\n",
       "  function now() {\n",
       "    return new Date();\n",
       "  }\n",
       "\n",
       "  var force = true;\n",
       "\n",
       "  if (typeof (root._bokeh_onload_callbacks) === \"undefined\" || force === true) {\n",
       "    root._bokeh_onload_callbacks = [];\n",
       "    root._bokeh_is_loading = undefined;\n",
       "  }\n",
       "\n",
       "  var JS_MIME_TYPE = 'application/javascript';\n",
       "  var HTML_MIME_TYPE = 'text/html';\n",
       "  var EXEC_MIME_TYPE = 'application/vnd.bokehjs_exec.v0+json';\n",
       "  var CLASS_NAME = 'output_bokeh rendered_html';\n",
       "\n",
       "  /**\n",
       "   * Render data to the DOM node\n",
       "   */\n",
       "  function render(props, node) {\n",
       "    var script = document.createElement(\"script\");\n",
       "    node.appendChild(script);\n",
       "  }\n",
       "\n",
       "  /**\n",
       "   * Handle when an output is cleared or removed\n",
       "   */\n",
       "  function handleClearOutput(event, handle) {\n",
       "    var cell = handle.cell;\n",
       "\n",
       "    var id = cell.output_area._bokeh_element_id;\n",
       "    var server_id = cell.output_area._bokeh_server_id;\n",
       "    // Clean up Bokeh references\n",
       "    if (id !== undefined) {\n",
       "      Bokeh.index[id].model.document.clear();\n",
       "      delete Bokeh.index[id];\n",
       "    }\n",
       "\n",
       "    if (server_id !== undefined) {\n",
       "      // Clean up Bokeh references\n",
       "      var cmd = \"from bokeh.io.state import curstate; print(curstate().uuid_to_server['\" + server_id + \"'].get_sessions()[0].document.roots[0]._id)\";\n",
       "      cell.notebook.kernel.execute(cmd, {\n",
       "        iopub: {\n",
       "          output: function(msg) {\n",
       "            var element_id = msg.content.text.trim();\n",
       "            Bokeh.index[element_id].model.document.clear();\n",
       "            delete Bokeh.index[element_id];\n",
       "          }\n",
       "        }\n",
       "      });\n",
       "      // Destroy server and session\n",
       "      var cmd = \"import bokeh.io.notebook as ion; ion.destroy_server('\" + server_id + \"')\";\n",
       "      cell.notebook.kernel.execute(cmd);\n",
       "    }\n",
       "  }\n",
       "\n",
       "  /**\n",
       "   * Handle when a new output is added\n",
       "   */\n",
       "  function handleAddOutput(event, handle) {\n",
       "    var output_area = handle.output_area;\n",
       "    var output = handle.output;\n",
       "\n",
       "    // limit handleAddOutput to display_data with EXEC_MIME_TYPE content only\n",
       "    if ((output.output_type != \"display_data\") || (!output.data.hasOwnProperty(EXEC_MIME_TYPE))) {\n",
       "      return\n",
       "    }\n",
       "\n",
       "    var toinsert = output_area.element.find(\".\" + CLASS_NAME.split(' ')[0]);\n",
       "\n",
       "    if (output.metadata[EXEC_MIME_TYPE][\"id\"] !== undefined) {\n",
       "      toinsert[toinsert.length - 1].firstChild.textContent = output.data[JS_MIME_TYPE];\n",
       "      // store reference to embed id on output_area\n",
       "      output_area._bokeh_element_id = output.metadata[EXEC_MIME_TYPE][\"id\"];\n",
       "    }\n",
       "    if (output.metadata[EXEC_MIME_TYPE][\"server_id\"] !== undefined) {\n",
       "      var bk_div = document.createElement(\"div\");\n",
       "      bk_div.innerHTML = output.data[HTML_MIME_TYPE];\n",
       "      var script_attrs = bk_div.children[0].attributes;\n",
       "      for (var i = 0; i < script_attrs.length; i++) {\n",
       "        toinsert[toinsert.length - 1].firstChild.setAttribute(script_attrs[i].name, script_attrs[i].value);\n",
       "      }\n",
       "      // store reference to server id on output_area\n",
       "      output_area._bokeh_server_id = output.metadata[EXEC_MIME_TYPE][\"server_id\"];\n",
       "    }\n",
       "  }\n",
       "\n",
       "  function register_renderer(events, OutputArea) {\n",
       "\n",
       "    function append_mime(data, metadata, element) {\n",
       "      // create a DOM node to render to\n",
       "      var toinsert = this.create_output_subarea(\n",
       "        metadata,\n",
       "        CLASS_NAME,\n",
       "        EXEC_MIME_TYPE\n",
       "      );\n",
       "      this.keyboard_manager.register_events(toinsert);\n",
       "      // Render to node\n",
       "      var props = {data: data, metadata: metadata[EXEC_MIME_TYPE]};\n",
       "      render(props, toinsert[toinsert.length - 1]);\n",
       "      element.append(toinsert);\n",
       "      return toinsert\n",
       "    }\n",
       "\n",
       "    /* Handle when an output is cleared or removed */\n",
       "    events.on('clear_output.CodeCell', handleClearOutput);\n",
       "    events.on('delete.Cell', handleClearOutput);\n",
       "\n",
       "    /* Handle when a new output is added */\n",
       "    events.on('output_added.OutputArea', handleAddOutput);\n",
       "\n",
       "    /**\n",
       "     * Register the mime type and append_mime function with output_area\n",
       "     */\n",
       "    OutputArea.prototype.register_mime_type(EXEC_MIME_TYPE, append_mime, {\n",
       "      /* Is output safe? */\n",
       "      safe: true,\n",
       "      /* Index of renderer in `output_area.display_order` */\n",
       "      index: 0\n",
       "    });\n",
       "  }\n",
       "\n",
       "  // register the mime type if in Jupyter Notebook environment and previously unregistered\n",
       "  if (root.Jupyter !== undefined) {\n",
       "    var events = require('base/js/events');\n",
       "    var OutputArea = require('notebook/js/outputarea').OutputArea;\n",
       "\n",
       "    if (OutputArea.prototype.mime_types().indexOf(EXEC_MIME_TYPE) == -1) {\n",
       "      register_renderer(events, OutputArea);\n",
       "    }\n",
       "  }\n",
       "\n",
       "  \n",
       "  if (typeof (root._bokeh_timeout) === \"undefined\" || force === true) {\n",
       "    root._bokeh_timeout = Date.now() + 5000;\n",
       "    root._bokeh_failed_load = false;\n",
       "  }\n",
       "\n",
       "  var NB_LOAD_WARNING = {'data': {'text/html':\n",
       "     \"<div style='background-color: #fdd'>\\n\"+\n",
       "     \"<p>\\n\"+\n",
       "     \"BokehJS does not appear to have successfully loaded. If loading BokehJS from CDN, this \\n\"+\n",
       "     \"may be due to a slow or bad network connection. Possible fixes:\\n\"+\n",
       "     \"</p>\\n\"+\n",
       "     \"<ul>\\n\"+\n",
       "     \"<li>re-rerun `output_notebook()` to attempt to load from CDN again, or</li>\\n\"+\n",
       "     \"<li>use INLINE resources instead, as so:</li>\\n\"+\n",
       "     \"</ul>\\n\"+\n",
       "     \"<code>\\n\"+\n",
       "     \"from bokeh.resources import INLINE\\n\"+\n",
       "     \"output_notebook(resources=INLINE)\\n\"+\n",
       "     \"</code>\\n\"+\n",
       "     \"</div>\"}};\n",
       "\n",
       "  function display_loaded() {\n",
       "    var el = document.getElementById(\"df514098-d9ed-421e-9920-d2f3c07a6bae\");\n",
       "    if (el != null) {\n",
       "      el.textContent = \"BokehJS is loading...\";\n",
       "    }\n",
       "    if (root.Bokeh !== undefined) {\n",
       "      if (el != null) {\n",
       "        el.textContent = \"BokehJS \" + root.Bokeh.version + \" successfully loaded.\";\n",
       "      }\n",
       "    } else if (Date.now() < root._bokeh_timeout) {\n",
       "      setTimeout(display_loaded, 100)\n",
       "    }\n",
       "  }\n",
       "\n",
       "\n",
       "  function run_callbacks() {\n",
       "    try {\n",
       "      root._bokeh_onload_callbacks.forEach(function(callback) { callback() });\n",
       "    }\n",
       "    finally {\n",
       "      delete root._bokeh_onload_callbacks\n",
       "    }\n",
       "    console.info(\"Bokeh: all callbacks have finished\");\n",
       "  }\n",
       "\n",
       "  function load_libs(js_urls, callback) {\n",
       "    root._bokeh_onload_callbacks.push(callback);\n",
       "    if (root._bokeh_is_loading > 0) {\n",
       "      console.log(\"Bokeh: BokehJS is being loaded, scheduling callback at\", now());\n",
       "      return null;\n",
       "    }\n",
       "    if (js_urls == null || js_urls.length === 0) {\n",
       "      run_callbacks();\n",
       "      return null;\n",
       "    }\n",
       "    console.log(\"Bokeh: BokehJS not loaded, scheduling load and callback at\", now());\n",
       "    root._bokeh_is_loading = js_urls.length;\n",
       "    for (var i = 0; i < js_urls.length; i++) {\n",
       "      var url = js_urls[i];\n",
       "      var s = document.createElement('script');\n",
       "      s.src = url;\n",
       "      s.async = false;\n",
       "      s.onreadystatechange = s.onload = function() {\n",
       "        root._bokeh_is_loading--;\n",
       "        if (root._bokeh_is_loading === 0) {\n",
       "          console.log(\"Bokeh: all BokehJS libraries loaded\");\n",
       "          run_callbacks()\n",
       "        }\n",
       "      };\n",
       "      s.onerror = function() {\n",
       "        console.warn(\"failed to load library \" + url);\n",
       "      };\n",
       "      console.log(\"Bokeh: injecting script tag for BokehJS library: \", url);\n",
       "      document.getElementsByTagName(\"head\")[0].appendChild(s);\n",
       "    }\n",
       "  };var element = document.getElementById(\"df514098-d9ed-421e-9920-d2f3c07a6bae\");\n",
       "  if (element == null) {\n",
       "    console.log(\"Bokeh: ERROR: autoload.js configured with elementid 'df514098-d9ed-421e-9920-d2f3c07a6bae' but no matching script tag was found. \")\n",
       "    return false;\n",
       "  }\n",
       "\n",
       "  var js_urls = [\"https://cdn.pydata.org/bokeh/release/bokeh-0.12.15.min.js\", \"https://cdn.pydata.org/bokeh/release/bokeh-widgets-0.12.15.min.js\", \"https://cdn.pydata.org/bokeh/release/bokeh-tables-0.12.15.min.js\", \"https://cdn.pydata.org/bokeh/release/bokeh-gl-0.12.15.min.js\"];\n",
       "\n",
       "  var inline_js = [\n",
       "    function(Bokeh) {\n",
       "      Bokeh.set_log_level(\"info\");\n",
       "    },\n",
       "    \n",
       "    function(Bokeh) {\n",
       "      \n",
       "    },\n",
       "    function(Bokeh) {\n",
       "      console.log(\"Bokeh: injecting CSS: https://cdn.pydata.org/bokeh/release/bokeh-0.12.15.min.css\");\n",
       "      Bokeh.embed.inject_css(\"https://cdn.pydata.org/bokeh/release/bokeh-0.12.15.min.css\");\n",
       "      console.log(\"Bokeh: injecting CSS: https://cdn.pydata.org/bokeh/release/bokeh-widgets-0.12.15.min.css\");\n",
       "      Bokeh.embed.inject_css(\"https://cdn.pydata.org/bokeh/release/bokeh-widgets-0.12.15.min.css\");\n",
       "      console.log(\"Bokeh: injecting CSS: https://cdn.pydata.org/bokeh/release/bokeh-tables-0.12.15.min.css\");\n",
       "      Bokeh.embed.inject_css(\"https://cdn.pydata.org/bokeh/release/bokeh-tables-0.12.15.min.css\");\n",
       "    }\n",
       "  ];\n",
       "\n",
       "  function run_inline_js() {\n",
       "    \n",
       "    if ((root.Bokeh !== undefined) || (force === true)) {\n",
       "      for (var i = 0; i < inline_js.length; i++) {\n",
       "        inline_js[i].call(root, root.Bokeh);\n",
       "      }if (force === true) {\n",
       "        display_loaded();\n",
       "      }} else if (Date.now() < root._bokeh_timeout) {\n",
       "      setTimeout(run_inline_js, 100);\n",
       "    } else if (!root._bokeh_failed_load) {\n",
       "      console.log(\"Bokeh: BokehJS failed to load within specified timeout.\");\n",
       "      root._bokeh_failed_load = true;\n",
       "    } else if (force !== true) {\n",
       "      var cell = $(document.getElementById(\"df514098-d9ed-421e-9920-d2f3c07a6bae\")).parents('.cell').data().cell;\n",
       "      cell.output_area.append_execute_result(NB_LOAD_WARNING)\n",
       "    }\n",
       "\n",
       "  }\n",
       "\n",
       "  if (root._bokeh_is_loading === 0) {\n",
       "    console.log(\"Bokeh: BokehJS loaded, going straight to plotting\");\n",
       "    run_inline_js();\n",
       "  } else {\n",
       "    load_libs(js_urls, function() {\n",
       "      console.log(\"Bokeh: BokehJS plotting callback run at\", now());\n",
       "      run_inline_js();\n",
       "    });\n",
       "  }\n",
       "}(window));"
      ],
      "application/vnd.bokehjs_load.v0+json": "\n(function(root) {\n  function now() {\n    return new Date();\n  }\n\n  var force = true;\n\n  if (typeof (root._bokeh_onload_callbacks) === \"undefined\" || force === true) {\n    root._bokeh_onload_callbacks = [];\n    root._bokeh_is_loading = undefined;\n  }\n\n  \n\n  \n  if (typeof (root._bokeh_timeout) === \"undefined\" || force === true) {\n    root._bokeh_timeout = Date.now() + 5000;\n    root._bokeh_failed_load = false;\n  }\n\n  var NB_LOAD_WARNING = {'data': {'text/html':\n     \"<div style='background-color: #fdd'>\\n\"+\n     \"<p>\\n\"+\n     \"BokehJS does not appear to have successfully loaded. If loading BokehJS from CDN, this \\n\"+\n     \"may be due to a slow or bad network connection. Possible fixes:\\n\"+\n     \"</p>\\n\"+\n     \"<ul>\\n\"+\n     \"<li>re-rerun `output_notebook()` to attempt to load from CDN again, or</li>\\n\"+\n     \"<li>use INLINE resources instead, as so:</li>\\n\"+\n     \"</ul>\\n\"+\n     \"<code>\\n\"+\n     \"from bokeh.resources import INLINE\\n\"+\n     \"output_notebook(resources=INLINE)\\n\"+\n     \"</code>\\n\"+\n     \"</div>\"}};\n\n  function display_loaded() {\n    var el = document.getElementById(\"df514098-d9ed-421e-9920-d2f3c07a6bae\");\n    if (el != null) {\n      el.textContent = \"BokehJS is loading...\";\n    }\n    if (root.Bokeh !== undefined) {\n      if (el != null) {\n        el.textContent = \"BokehJS \" + root.Bokeh.version + \" successfully loaded.\";\n      }\n    } else if (Date.now() < root._bokeh_timeout) {\n      setTimeout(display_loaded, 100)\n    }\n  }\n\n\n  function run_callbacks() {\n    try {\n      root._bokeh_onload_callbacks.forEach(function(callback) { callback() });\n    }\n    finally {\n      delete root._bokeh_onload_callbacks\n    }\n    console.info(\"Bokeh: all callbacks have finished\");\n  }\n\n  function load_libs(js_urls, callback) {\n    root._bokeh_onload_callbacks.push(callback);\n    if (root._bokeh_is_loading > 0) {\n      console.log(\"Bokeh: BokehJS is being loaded, scheduling callback at\", now());\n      return null;\n    }\n    if (js_urls == null || js_urls.length === 0) {\n      run_callbacks();\n      return null;\n    }\n    console.log(\"Bokeh: BokehJS not loaded, scheduling load and callback at\", now());\n    root._bokeh_is_loading = js_urls.length;\n    for (var i = 0; i < js_urls.length; i++) {\n      var url = js_urls[i];\n      var s = document.createElement('script');\n      s.src = url;\n      s.async = false;\n      s.onreadystatechange = s.onload = function() {\n        root._bokeh_is_loading--;\n        if (root._bokeh_is_loading === 0) {\n          console.log(\"Bokeh: all BokehJS libraries loaded\");\n          run_callbacks()\n        }\n      };\n      s.onerror = function() {\n        console.warn(\"failed to load library \" + url);\n      };\n      console.log(\"Bokeh: injecting script tag for BokehJS library: \", url);\n      document.getElementsByTagName(\"head\")[0].appendChild(s);\n    }\n  };var element = document.getElementById(\"df514098-d9ed-421e-9920-d2f3c07a6bae\");\n  if (element == null) {\n    console.log(\"Bokeh: ERROR: autoload.js configured with elementid 'df514098-d9ed-421e-9920-d2f3c07a6bae' but no matching script tag was found. \")\n    return false;\n  }\n\n  var js_urls = [\"https://cdn.pydata.org/bokeh/release/bokeh-0.12.15.min.js\", \"https://cdn.pydata.org/bokeh/release/bokeh-widgets-0.12.15.min.js\", \"https://cdn.pydata.org/bokeh/release/bokeh-tables-0.12.15.min.js\", \"https://cdn.pydata.org/bokeh/release/bokeh-gl-0.12.15.min.js\"];\n\n  var inline_js = [\n    function(Bokeh) {\n      Bokeh.set_log_level(\"info\");\n    },\n    \n    function(Bokeh) {\n      \n    },\n    function(Bokeh) {\n      console.log(\"Bokeh: injecting CSS: https://cdn.pydata.org/bokeh/release/bokeh-0.12.15.min.css\");\n      Bokeh.embed.inject_css(\"https://cdn.pydata.org/bokeh/release/bokeh-0.12.15.min.css\");\n      console.log(\"Bokeh: injecting CSS: https://cdn.pydata.org/bokeh/release/bokeh-widgets-0.12.15.min.css\");\n      Bokeh.embed.inject_css(\"https://cdn.pydata.org/bokeh/release/bokeh-widgets-0.12.15.min.css\");\n      console.log(\"Bokeh: injecting CSS: https://cdn.pydata.org/bokeh/release/bokeh-tables-0.12.15.min.css\");\n      Bokeh.embed.inject_css(\"https://cdn.pydata.org/bokeh/release/bokeh-tables-0.12.15.min.css\");\n    }\n  ];\n\n  function run_inline_js() {\n    \n    if ((root.Bokeh !== undefined) || (force === true)) {\n      for (var i = 0; i < inline_js.length; i++) {\n        inline_js[i].call(root, root.Bokeh);\n      }if (force === true) {\n        display_loaded();\n      }} else if (Date.now() < root._bokeh_timeout) {\n      setTimeout(run_inline_js, 100);\n    } else if (!root._bokeh_failed_load) {\n      console.log(\"Bokeh: BokehJS failed to load within specified timeout.\");\n      root._bokeh_failed_load = true;\n    } else if (force !== true) {\n      var cell = $(document.getElementById(\"df514098-d9ed-421e-9920-d2f3c07a6bae\")).parents('.cell').data().cell;\n      cell.output_area.append_execute_result(NB_LOAD_WARNING)\n    }\n\n  }\n\n  if (root._bokeh_is_loading === 0) {\n    console.log(\"Bokeh: BokehJS loaded, going straight to plotting\");\n    run_inline_js();\n  } else {\n    load_libs(js_urls, function() {\n      console.log(\"Bokeh: BokehJS plotting callback run at\", now());\n      run_inline_js();\n    });\n  }\n}(window));"
     },
     "metadata": {},
     "output_type": "display_data"
    },
    {
     "data": {
      "text/html": [
       "\n",
       "<div class=\"bk-root\">\n",
       "    <div class=\"bk-plotdiv\" id=\"a6670add-8644-4bcf-a010-82c8d8eca546\"></div>\n",
       "</div>"
      ]
     },
     "metadata": {},
     "output_type": "display_data"
    },
    {
     "data": {
      "application/javascript": [
       "(function(root) {\n",
       "  function embed_document(root) {\n",
       "    \n",
       "  var docs_json = {\"29890262-2eae-4ab8-a58f-743379ae8550\":{\"roots\":{\"references\":[{\"attributes\":{\"line_color\":\"#9467bd\",\"line_width\":2,\"x\":{\"field\":\"x\"},\"y\":{\"field\":\"y\"}},\"id\":\"439e67c9-5f74-4e62-8fc0-3282fcf1b850\",\"type\":\"Line\"},{\"attributes\":{\"line_alpha\":0.1,\"line_color\":\"#1f77b4\",\"line_width\":2,\"x\":{\"field\":\"x\"},\"y\":{\"field\":\"y\"}},\"id\":\"dab91f41-72df-49df-98e6-c0ed707b684b\",\"type\":\"Line\"},{\"attributes\":{\"line_color\":\"#1f77b4\",\"line_width\":2,\"x\":{\"field\":\"x\"},\"y\":{\"field\":\"y\"}},\"id\":\"7c9dd6c3-d36f-45db-a055-8784814d732e\",\"type\":\"Line\"},{\"attributes\":{\"source\":{\"id\":\"81cbc34e-f85d-4573-9cb3-4ed383856fb4\",\"type\":\"ColumnDataSource\"}},\"id\":\"7fca1bdc-4684-4340-950c-7305d96636f7\",\"type\":\"CDSView\"},{\"attributes\":{\"callback\":null,\"column_names\":[\"x\",\"y\"],\"data\":{\"x\":[1990,1991,1992,1993,1994,1995,1996,1997,1998,1999,2000,2001,2002,2003,2004,2005,2006,2007,2008,2009,2010,2011,2012,2013,2014,2015,2016,2017],\"y\":{\"__ndarray__\":\"GW9bf8zwUD9kbSYjqWCBP1eyGQ5y+30/bALg3mWlfT9u6PQnbUJ/P5YV9yTRx30/LJ8CyAbZfT86PYq95Kt4P/fzl11+Qnc/k7xXN0Zcez94SmJPGTyAP2+ViQujNYE/LRKNbIqnfj9tIv9mH2eAP0hOnFdGTYQ/gnLFNxMRgD/iwFas4yqAP3/fGwvWgHw/ffkGws7jej+TvFc3Rlx7P550yuMckoQ/Tx1gUrW2gT9TWXog5497P/rZrKaF33g/Je3D7PABeT9OjVCO2FV4PwvR04nuHXY/uQNF66JEeD8=\",\"dtype\":\"float64\",\"shape\":[28]}},\"selected\":null,\"selection_policy\":null},\"id\":\"e471fa48-824e-4677-bd1d-11f6776a5c03\",\"type\":\"ColumnDataSource\"},{\"attributes\":{\"line_alpha\":0.1,\"line_color\":\"#1f77b4\",\"line_width\":2,\"x\":{\"field\":\"x\"},\"y\":{\"field\":\"y\"}},\"id\":\"0dd10543-97f4-4786-b8ba-0e2e7220b80d\",\"type\":\"Line\"},{\"attributes\":{\"data_source\":{\"id\":\"81cbc34e-f85d-4573-9cb3-4ed383856fb4\",\"type\":\"ColumnDataSource\"},\"glyph\":{\"id\":\"7c9dd6c3-d36f-45db-a055-8784814d732e\",\"type\":\"Line\"},\"hover_glyph\":null,\"muted_glyph\":{\"id\":\"0e8448c6-05f4-4c96-a7fc-88c8797d7ee0\",\"type\":\"Line\"},\"nonselection_glyph\":{\"id\":\"0dd10543-97f4-4786-b8ba-0e2e7220b80d\",\"type\":\"Line\"},\"selection_glyph\":null,\"view\":{\"id\":\"7fca1bdc-4684-4340-950c-7305d96636f7\",\"type\":\"CDSView\"}},\"id\":\"8f963179-6fc7-4ccc-918d-ed0b19bcd54a\",\"type\":\"GlyphRenderer\"},{\"attributes\":{\"source\":{\"id\":\"d0199d7c-e2e8-4003-9f54-338fcc20f36a\",\"type\":\"ColumnDataSource\"}},\"id\":\"598a1919-1b59-4113-8c46-ba968886e770\",\"type\":\"CDSView\"},{\"attributes\":{\"callback\":null,\"column_names\":[\"x\",\"y\"],\"data\":{\"x\":[1990,1991,1992,1993,1994,1995,1996,1997,1998,1999,2000,2001,2002,2003,2004,2005,2006,2007,2008,2009,2010,2011,2012,2013,2014,2015,2016,2017],\"y\":{\"__ndarray__\":\"7RHXpmo2ST+ROzdZX4x6P286tOhEnn4/JUbfunH+fj+HNvv3NX5+P5dVs0gYYns/fmprPF0bfj9B9DmWgmt+P50UhYwUWns/Vi1u1h0lfD82+qTlC0SBP+pwwt2AQnw/+vsj3VWdfD/CM8V3QUx6P2ywTb8/I3g/7QDYozSddj8DprWSws13PzpMFvJq7HQ/9xYTCJREdT9jLmms7QR2PwazcwqfOHg/Bh8duZGvez8Amfca5mJ3P3uFWmebwnY/PbR+FQQ1dj/62SXX6Wp3PxWZf7UwcXk/MZGFOcgidz8=\",\"dtype\":\"float64\",\"shape\":[28]}},\"selected\":null,\"selection_policy\":null},\"id\":\"327ef131-9cd9-4155-acc5-97db79593ab1\",\"type\":\"ColumnDataSource\"},{\"attributes\":{\"line_alpha\":0.1,\"line_color\":\"#1f77b4\",\"line_width\":2,\"x\":{\"field\":\"x\"},\"y\":{\"field\":\"y\"}},\"id\":\"10bd3da4-e8b0-4131-8b35-ccfd9eea86fb\",\"type\":\"Line\"},{\"attributes\":{\"callback\":null,\"column_names\":[\"x\",\"y\"],\"data\":{\"x\":[1990,1991,1992,1993,1994,1995,1996,1997,1998,1999,2000,2001,2002,2003,2004,2005,2006,2007,2008,2009,2010,2011,2012,2013,2014,2015,2016,2017],\"y\":{\"__ndarray__\":\"rDsSfPW8Qz/m8I5+nixwP1ART4i1T3A//hucdPptbj840Rh3o91qP60YmyZCVW0/VpqbTZ7hbT/Z1xoTFA9tP77d0qxobHQ/YrMPuSj/cD+6MQ+SzHKAP0pz2acWjXs/ONEYd6Pdej8YOVswWXh9P08fncKyhm8/0lwciCi0bj/gUhme/2lrP+fNFynrxGk/7kgWtNYfaD9WmptNnuFtP5BPGFBHUWo/4yFUDk/LdT+6MQ+SzHJwP+BSGZ7/aWs/rRibJkJVbT8Fl5r/5chsP/iST68R3HA/GgiWoKjZZz8=\",\"dtype\":\"float64\",\"shape\":[28]}},\"selected\":null,\"selection_policy\":null},\"id\":\"81cbc34e-f85d-4573-9cb3-4ed383856fb4\",\"type\":\"ColumnDataSource\"},{\"attributes\":{\"line_color\":\"#8c564b\",\"line_width\":2,\"x\":{\"field\":\"x\"},\"y\":{\"field\":\"y\"}},\"id\":\"22441f73-7b0f-45cf-a481-ba80c95cae5b\",\"type\":\"Line\"},{\"attributes\":{\"callback\":null,\"column_names\":[\"x\",\"y\"],\"data\":{\"x\":[1990,1991,1992,1993,1994,1995,1996,1997,1998,1999,2000,2001,2002,2003,2004,2005,2006,2007,2008,2009,2010,2011,2012,2013,2014,2015,2016,2017],\"y\":{\"__ndarray__\":\"mOfdXHC9YT8ffvWI7G6HP4JwepF0+Ik/H371iOxuhz8o5tz+wgiOP6emWKHmdI0/fBnnwtTahD87TOwiiFGEPx4jhKYv8IY/RLTTmF7rij9qMuBZyLmPPzynXQVF0IQ/unoc2S1pgz9q+wVQB+R/P+hzU0Ez/n0/os7Njf9+eT/feSDf3g93P5/QvBeOL3c/4Yp0hhWMeD+dUbRc1Qd2PxcDy+FQqHE/nnVLNdGwdj9YPnqVH91xP5eMbHqzPnE/WYaoRhcvcz8Zua2myqVyPxiVFs7O/HE/FwPL4VCocT8=\",\"dtype\":\"float64\",\"shape\":[28]}},\"selected\":null,\"selection_policy\":null},\"id\":\"d0199d7c-e2e8-4003-9f54-338fcc20f36a\",\"type\":\"ColumnDataSource\"},{\"attributes\":{\"label\":{\"value\":\"MS\"},\"renderers\":[{\"id\":\"aa289357-7f0c-44f2-a74c-63b0f2eaadf8\",\"type\":\"GlyphRenderer\"}]},\"id\":\"a56fef2e-76d1-4c06-a7e8-98b0b7f131da\",\"type\":\"LegendItem\"},{\"attributes\":{\"data_source\":{\"id\":\"327ef131-9cd9-4155-acc5-97db79593ab1\",\"type\":\"ColumnDataSource\"},\"glyph\":{\"id\":\"4517e7c7-8b40-4e86-8b61-5c4b5933964f\",\"type\":\"Line\"},\"hover_glyph\":null,\"muted_glyph\":{\"id\":\"6fd6fe3b-a8d8-40ba-bb23-e63f782e58a3\",\"type\":\"Line\"},\"nonselection_glyph\":{\"id\":\"8629ff62-8ed3-4714-9197-fc7d6f2b9ccc\",\"type\":\"Line\"},\"selection_glyph\":null,\"view\":{\"id\":\"d27b35ae-7bea-4fc0-a004-672a8a2e4f74\",\"type\":\"CDSView\"}},\"id\":\"86d5c031-8f7e-43f8-b9e7-d00e7de6b926\",\"type\":\"GlyphRenderer\"},{\"attributes\":{\"line_alpha\":0.2,\"line_color\":\"#1f77b4\",\"line_width\":2,\"x\":{\"field\":\"x\"},\"y\":{\"field\":\"y\"}},\"id\":\"0e8448c6-05f4-4c96-a7fc-88c8797d7ee0\",\"type\":\"Line\"},{\"attributes\":{\"label\":{\"value\":\"CA\"},\"renderers\":[{\"id\":\"86d5c031-8f7e-43f8-b9e7-d00e7de6b926\",\"type\":\"GlyphRenderer\"}]},\"id\":\"73fb6b67-f9f6-49fb-8e37-582562fee8c5\",\"type\":\"LegendItem\"},{\"attributes\":{\"line_alpha\":0.2,\"line_color\":\"#c5b0d5\",\"line_width\":2,\"x\":{\"field\":\"x\"},\"y\":{\"field\":\"y\"}},\"id\":\"5c2a6424-28fa-477a-b8a1-4344db8a7e82\",\"type\":\"Line\"},{\"attributes\":{\"data_source\":{\"id\":\"d0199d7c-e2e8-4003-9f54-338fcc20f36a\",\"type\":\"ColumnDataSource\"},\"glyph\":{\"id\":\"4bf941c3-4562-4361-a779-e81f1ffaf563\",\"type\":\"Line\"},\"hover_glyph\":null,\"muted_glyph\":{\"id\":\"5c2a6424-28fa-477a-b8a1-4344db8a7e82\",\"type\":\"Line\"},\"nonselection_glyph\":{\"id\":\"10bd3da4-e8b0-4131-8b35-ccfd9eea86fb\",\"type\":\"Line\"},\"selection_glyph\":null,\"view\":{\"id\":\"598a1919-1b59-4113-8c46-ba968886e770\",\"type\":\"CDSView\"}},\"id\":\"856878fc-57f6-4a16-96bf-4b9e2e932f36\",\"type\":\"GlyphRenderer\"},{\"attributes\":{\"label\":{\"value\":\"MO\"},\"renderers\":[{\"id\":\"be594127-880e-4bbe-8730-f8b9e468a123\",\"type\":\"GlyphRenderer\"}]},\"id\":\"bdf04b28-9176-43af-b5b3-3ac4c9841f98\",\"type\":\"LegendItem\"},{\"attributes\":{\"source\":{\"id\":\"327ef131-9cd9-4155-acc5-97db79593ab1\",\"type\":\"ColumnDataSource\"}},\"id\":\"d27b35ae-7bea-4fc0-a004-672a8a2e4f74\",\"type\":\"CDSView\"},{\"attributes\":{\"line_alpha\":0.1,\"line_color\":\"#1f77b4\",\"line_width\":2,\"x\":{\"field\":\"x\"},\"y\":{\"field\":\"y\"}},\"id\":\"20a96666-27f4-4587-9d26-f264f76a91ed\",\"type\":\"Line\"},{\"attributes\":{\"label\":{\"value\":\"MA\"},\"renderers\":[{\"id\":\"cbe5d095-f796-4883-8f65-cdbb3110a5a7\",\"type\":\"GlyphRenderer\"}]},\"id\":\"792b4e2f-a53d-4cdc-accc-a81c1ab06385\",\"type\":\"LegendItem\"},{\"attributes\":{\"source\":{\"id\":\"e471fa48-824e-4677-bd1d-11f6776a5c03\",\"type\":\"ColumnDataSource\"}},\"id\":\"85b566f8-021e-4cd7-81e0-b98bc6705fa9\",\"type\":\"CDSView\"},{\"attributes\":{\"line_alpha\":0.1,\"line_color\":\"#1f77b4\",\"line_width\":2,\"x\":{\"field\":\"x\"},\"y\":{\"field\":\"y\"}},\"id\":\"8629ff62-8ed3-4714-9197-fc7d6f2b9ccc\",\"type\":\"Line\"},{\"attributes\":{\"data_source\":{\"id\":\"9d6a22d0-e268-4660-8004-f53d349081bb\",\"type\":\"ColumnDataSource\"},\"glyph\":{\"id\":\"439e67c9-5f74-4e62-8fc0-3282fcf1b850\",\"type\":\"Line\"},\"hover_glyph\":null,\"muted_glyph\":{\"id\":\"cede1366-2e59-44ca-8b18-9ce0fc6404e6\",\"type\":\"Line\"},\"nonselection_glyph\":{\"id\":\"20a96666-27f4-4587-9d26-f264f76a91ed\",\"type\":\"Line\"},\"selection_glyph\":null,\"view\":{\"id\":\"5e136d37-f5c2-42b4-980f-acc3ce0cf0ba\",\"type\":\"CDSView\"}},\"id\":\"cbe5d095-f796-4883-8f65-cdbb3110a5a7\",\"type\":\"GlyphRenderer\"},{\"attributes\":{\"label\":{\"value\":\"MI\"},\"renderers\":[{\"id\":\"856878fc-57f6-4a16-96bf-4b9e2e932f36\",\"type\":\"GlyphRenderer\"}]},\"id\":\"02d38018-40e6-43b5-80a8-d0380e1a3e1f\",\"type\":\"LegendItem\"},{\"attributes\":{\"line_color\":\"#aec7e8\",\"line_width\":2,\"x\":{\"field\":\"x\"},\"y\":{\"field\":\"y\"}},\"id\":\"4517e7c7-8b40-4e86-8b61-5c4b5933964f\",\"type\":\"Line\"},{\"attributes\":{\"data_source\":{\"id\":\"e471fa48-824e-4677-bd1d-11f6776a5c03\",\"type\":\"ColumnDataSource\"},\"glyph\":{\"id\":\"22441f73-7b0f-45cf-a481-ba80c95cae5b\",\"type\":\"Line\"},\"hover_glyph\":null,\"muted_glyph\":{\"id\":\"4177faf4-eb5f-44d0-aaa0-e26a2f4c8704\",\"type\":\"Line\"},\"nonselection_glyph\":{\"id\":\"dab91f41-72df-49df-98e6-c0ed707b684b\",\"type\":\"Line\"},\"selection_glyph\":null,\"view\":{\"id\":\"85b566f8-021e-4cd7-81e0-b98bc6705fa9\",\"type\":\"CDSView\"}},\"id\":\"be594127-880e-4bbe-8730-f8b9e468a123\",\"type\":\"GlyphRenderer\"},{\"attributes\":{\"line_alpha\":0.2,\"line_color\":\"#aec7e8\",\"line_width\":2,\"x\":{\"field\":\"x\"},\"y\":{\"field\":\"y\"}},\"id\":\"6fd6fe3b-a8d8-40ba-bb23-e63f782e58a3\",\"type\":\"Line\"},{\"attributes\":{\"callback\":null,\"column_names\":[\"x\",\"y\"],\"data\":{\"x\":[1990,1991,1992,1993,1994,1995,1996,1997,1998,1999,2000,2001,2002,2003,2004,2005,2006,2007,2008,2009,2010,2011,2012,2013,2014,2015,2016,2017],\"y\":{\"__ndarray__\":\"r1Vg13drSz8XYQGMI8J6P+jYKc5Tm34/9LqfvQelfT9oqLZhZwV8PzLOPdPkLXs/WR3wCVqjej8mi+EKWPh2Pxqpaxuk7nc/jvdomNx6ez+ootgt7I6BP8/ximRhBIE/c4osURsPez/KwpweOdd7PyD7DOxWn3w/xNHhJl9SfD/HejKPuKp+P0FZBCvyj3w/tUYbz1Hwej8plRhMinx+Py+G00NkAX4/nYIv8OncfD+LThgwgyJ5Px3x1aokG3U/4YaI/aDqeT93M325dGd9P14OqwE0KHo/7Wj+7FT0eD8=\",\"dtype\":\"float64\",\"shape\":[28]}},\"selected\":null,\"selection_policy\":null},\"id\":\"9d6a22d0-e268-4660-8004-f53d349081bb\",\"type\":\"ColumnDataSource\"},{\"attributes\":{\"line_color\":\"#c5b0d5\",\"line_width\":2,\"x\":{\"field\":\"x\"},\"y\":{\"field\":\"y\"}},\"id\":\"4bf941c3-4562-4361-a779-e81f1ffaf563\",\"type\":\"Line\"},{\"attributes\":{\"plot\":null,\"text\":\"Malpractice case per 10,000 citizens per year for a group of states which successfully diminished this number in the last two decades.\"},\"id\":\"55942ee3-a6e6-4880-829a-a99f7464126d\",\"type\":\"Title\"},{\"attributes\":{\"line_alpha\":0.2,\"line_color\":\"#8c564b\",\"line_width\":2,\"x\":{\"field\":\"x\"},\"y\":{\"field\":\"y\"}},\"id\":\"4177faf4-eb5f-44d0-aaa0-e26a2f4c8704\",\"type\":\"Line\"},{\"attributes\":{\"source\":{\"id\":\"9d6a22d0-e268-4660-8004-f53d349081bb\",\"type\":\"ColumnDataSource\"}},\"id\":\"5e136d37-f5c2-42b4-980f-acc3ce0cf0ba\",\"type\":\"CDSView\"},{\"attributes\":{\"label\":{\"value\":\"IL\"},\"renderers\":[{\"id\":\"ec312f0c-d240-4763-a474-12eadf2e678e\",\"type\":\"GlyphRenderer\"}]},\"id\":\"e6e53188-ae7c-400e-8551-2fbc297c293f\",\"type\":\"LegendItem\"},{\"attributes\":{\"label\":{\"value\":\"WV\"},\"renderers\":[{\"id\":\"17d8ba95-35ff-42d4-a5ed-d53227e7a4c5\",\"type\":\"GlyphRenderer\"}]},\"id\":\"536a2d9a-2cc3-412c-a8e8-b48cf1be9fbf\",\"type\":\"LegendItem\"},{\"attributes\":{\"below\":[{\"id\":\"c4bb4296-cd5b-401e-b178-12d48ab4c53b\",\"type\":\"LinearAxis\"}],\"left\":[{\"id\":\"7169dfe0-74d8-4b8d-a02b-fc544a49ff1e\",\"type\":\"LinearAxis\"}],\"plot_height\":800,\"plot_width\":950,\"renderers\":[{\"id\":\"c4bb4296-cd5b-401e-b178-12d48ab4c53b\",\"type\":\"LinearAxis\"},{\"id\":\"830f6d55-1d57-4422-b4cc-6a3afea6ca75\",\"type\":\"Grid\"},{\"id\":\"7169dfe0-74d8-4b8d-a02b-fc544a49ff1e\",\"type\":\"LinearAxis\"},{\"id\":\"e020da64-d3cf-43ca-8649-906bb57c63f4\",\"type\":\"Grid\"},{\"id\":\"547cc7e3-93a8-4b03-9f79-455e91a205ae\",\"type\":\"Legend\"},{\"id\":\"8f963179-6fc7-4ccc-918d-ed0b19bcd54a\",\"type\":\"GlyphRenderer\"},{\"id\":\"86d5c031-8f7e-43f8-b9e7-d00e7de6b926\",\"type\":\"GlyphRenderer\"},{\"id\":\"8c3fbbd4-c03f-4316-8848-e30deb3a7a8e\",\"type\":\"GlyphRenderer\"},{\"id\":\"65229b99-b60e-4f6a-a73d-590fe6f36d00\",\"type\":\"GlyphRenderer\"},{\"id\":\"23d683a8-982e-4bdb-a9ec-ff18db1d47b9\",\"type\":\"GlyphRenderer\"},{\"id\":\"2533247e-87cb-4066-a4c1-0f0a6842da5c\",\"type\":\"GlyphRenderer\"},{\"id\":\"ec312f0c-d240-4763-a474-12eadf2e678e\",\"type\":\"GlyphRenderer\"},{\"id\":\"30a5d3b5-52d6-4caa-abb4-a2b453f56bec\",\"type\":\"GlyphRenderer\"},{\"id\":\"cbe5d095-f796-4883-8f65-cdbb3110a5a7\",\"type\":\"GlyphRenderer\"},{\"id\":\"856878fc-57f6-4a16-96bf-4b9e2e932f36\",\"type\":\"GlyphRenderer\"},{\"id\":\"be594127-880e-4bbe-8730-f8b9e468a123\",\"type\":\"GlyphRenderer\"},{\"id\":\"aa289357-7f0c-44f2-a74c-63b0f2eaadf8\",\"type\":\"GlyphRenderer\"},{\"id\":\"9e432c43-e90e-4f68-990e-97279ad27a0f\",\"type\":\"GlyphRenderer\"},{\"id\":\"2bd5f458-4ed5-464a-a5c1-da5ff071410f\",\"type\":\"GlyphRenderer\"},{\"id\":\"357a4e0c-231e-4e66-8003-d11bcc0abc10\",\"type\":\"GlyphRenderer\"},{\"id\":\"1b702a12-029b-4ba3-a3c9-300777f46cff\",\"type\":\"GlyphRenderer\"},{\"id\":\"ce5b79fa-b1a9-47f6-ab79-78235fc1cfd4\",\"type\":\"GlyphRenderer\"},{\"id\":\"17d8ba95-35ff-42d4-a5ed-d53227e7a4c5\",\"type\":\"GlyphRenderer\"}],\"title\":{\"id\":\"55942ee3-a6e6-4880-829a-a99f7464126d\",\"type\":\"Title\"},\"toolbar\":{\"id\":\"93e8a170-56b0-4fab-8a43-5572bc35a616\",\"type\":\"Toolbar\"},\"x_range\":{\"id\":\"921f6c0b-ecf7-4594-b642-5055975439fc\",\"type\":\"DataRange1d\"},\"x_scale\":{\"id\":\"274faf39-e8f1-49ae-83f3-f2e620009a08\",\"type\":\"LinearScale\"},\"y_range\":{\"id\":\"3b45634a-c9e6-40b4-894e-5ee89f9f4f7d\",\"type\":\"DataRange1d\"},\"y_scale\":{\"id\":\"44edb751-5f26-40c7-9474-0a54093ce071\",\"type\":\"LinearScale\"}},\"id\":\"6985ef14-2246-4056-b3d9-7f1b0fd82b44\",\"subtype\":\"Figure\",\"type\":\"Plot\"},{\"attributes\":{\"callback\":null,\"column_names\":[\"x\",\"y\"],\"data\":{\"x\":[1990,1991,1992,1993,1994,1995,1996,1997,1998,1999,2000,2001,2002,2003,2004,2005,2006,2007,2008,2009,2010,2011,2012,2013,2014,2015,2016,2017],\"y\":{\"__ndarray__\":\"euG64w8bYD8gpFzX5iaHP4MSHA0F8Yg/7+x8vNdBhj9nrg/S+SuKP7ckZEbBt4g/oyz5hGp5hT+lh2GjF1uEPwLl530ugIk/n3YoSBC2hz9YbHVN/bCUP2Cd1nbyho0/kDSOwxM7kj/fb6LnGxaOP5D5TXNUin8/eIZSxWI5gT9ax91rqpKDPwCKf1+Bnno/E70qcZeNgD+Q+U1zVIp/P3hLEnWjiI4/Qt5hHTrgjz8v5vZb46F8P3iGUsViOYE/3U96GS7lgT+72jSDG3uGP/dYHjaMyIE/jtklpWZZgz8=\",\"dtype\":\"float64\",\"shape\":[28]}},\"selected\":null,\"selection_policy\":null},\"id\":\"ede66bc7-de6d-4012-8297-8817f5ca4d5f\",\"type\":\"ColumnDataSource\"},{\"attributes\":{\"line_color\":\"#c49c94\",\"line_width\":2,\"x\":{\"field\":\"x\"},\"y\":{\"field\":\"y\"}},\"id\":\"42b4f9ad-1bb1-4d08-83b8-afcbc7f1ce62\",\"type\":\"Line\"},{\"attributes\":{\"data_source\":{\"id\":\"cf41b570-8c17-4a25-a10e-b77839292274\",\"type\":\"ColumnDataSource\"},\"glyph\":{\"id\":\"42b4f9ad-1bb1-4d08-83b8-afcbc7f1ce62\",\"type\":\"Line\"},\"hover_glyph\":null,\"muted_glyph\":{\"id\":\"fdc58a4f-9205-459c-ab5f-05059b04090c\",\"type\":\"Line\"},\"nonselection_glyph\":{\"id\":\"a2494d17-d3c8-433e-9626-acc87d7ebbd5\",\"type\":\"Line\"},\"selection_glyph\":null,\"view\":{\"id\":\"24d8bbcc-c17f-49b0-aa61-532486aecb73\",\"type\":\"CDSView\"}},\"id\":\"aa289357-7f0c-44f2-a74c-63b0f2eaadf8\",\"type\":\"GlyphRenderer\"},{\"attributes\":{\"line_alpha\":0.2,\"line_color\":\"#ffbb78\",\"line_width\":2,\"x\":{\"field\":\"x\"},\"y\":{\"field\":\"y\"}},\"id\":\"a174f16f-5ee6-4241-8e93-3581b0ac0f0d\",\"type\":\"Line\"},{\"attributes\":{\"line_alpha\":0.1,\"line_color\":\"#1f77b4\",\"line_width\":2,\"x\":{\"field\":\"x\"},\"y\":{\"field\":\"y\"}},\"id\":\"81a8f54d-73a1-435a-9a57-ff1b3c3413c2\",\"type\":\"Line\"},{\"attributes\":{\"line_alpha\":0.2,\"line_color\":\"#bcbd22\",\"line_width\":2,\"x\":{\"field\":\"x\"},\"y\":{\"field\":\"y\"}},\"id\":\"0ce5f27a-6199-4309-bcf2-db44eff520ac\",\"type\":\"Line\"},{\"attributes\":{\"line_alpha\":0.2,\"line_color\":\"#c49c94\",\"line_width\":2,\"x\":{\"field\":\"x\"},\"y\":{\"field\":\"y\"}},\"id\":\"fdc58a4f-9205-459c-ab5f-05059b04090c\",\"type\":\"Line\"},{\"attributes\":{\"line_alpha\":0.1,\"line_color\":\"#1f77b4\",\"line_width\":2,\"x\":{\"field\":\"x\"},\"y\":{\"field\":\"y\"}},\"id\":\"37dcbd74-ea4a-44e7-8c0f-d195416221e6\",\"type\":\"Line\"},{\"attributes\":{\"line_alpha\":0.2,\"line_color\":\"#dbdb8d\",\"line_width\":2,\"x\":{\"field\":\"x\"},\"y\":{\"field\":\"y\"}},\"id\":\"e3971d78-9eb3-478a-86fc-7726c05c8015\",\"type\":\"Line\"},{\"attributes\":{\"data_source\":{\"id\":\"445ad638-0883-42e4-833a-49035826ce48\",\"type\":\"ColumnDataSource\"},\"glyph\":{\"id\":\"2d37536f-5466-45f0-add9-d08610f02a55\",\"type\":\"Line\"},\"hover_glyph\":null,\"muted_glyph\":{\"id\":\"58d1f219-dd0a-4306-b642-fd7f1124f484\",\"type\":\"Line\"},\"nonselection_glyph\":{\"id\":\"40d2b004-9a89-4a77-8f2a-c3408e015a9b\",\"type\":\"Line\"},\"selection_glyph\":null,\"view\":{\"id\":\"79a81807-5f35-4317-a948-8a5d58ab39bf\",\"type\":\"CDSView\"}},\"id\":\"23d683a8-982e-4bdb-a9ec-ff18db1d47b9\",\"type\":\"GlyphRenderer\"},{\"attributes\":{\"line_alpha\":0.1,\"line_color\":\"#1f77b4\",\"line_width\":2,\"x\":{\"field\":\"x\"},\"y\":{\"field\":\"y\"}},\"id\":\"ed477610-b6e9-4662-accb-459925e2e2a1\",\"type\":\"Line\"},{\"attributes\":{\"data_source\":{\"id\":\"ede66bc7-de6d-4012-8297-8817f5ca4d5f\",\"type\":\"ColumnDataSource\"},\"glyph\":{\"id\":\"e500c07b-299f-4a2c-a1be-62a8b3bf46de\",\"type\":\"Line\"},\"hover_glyph\":null,\"muted_glyph\":{\"id\":\"e3971d78-9eb3-478a-86fc-7726c05c8015\",\"type\":\"Line\"},\"nonselection_glyph\":{\"id\":\"32aae661-01fc-4a56-8f02-afa12fa31260\",\"type\":\"Line\"},\"selection_glyph\":null,\"view\":{\"id\":\"93247936-dfee-4b21-a12b-bd08c5eac39d\",\"type\":\"CDSView\"}},\"id\":\"17d8ba95-35ff-42d4-a5ed-d53227e7a4c5\",\"type\":\"GlyphRenderer\"},{\"attributes\":{\"label\":{\"value\":\"PA\"},\"renderers\":[{\"id\":\"1b702a12-029b-4ba3-a3c9-300777f46cff\",\"type\":\"GlyphRenderer\"}]},\"id\":\"3eb9e0b9-75d7-485d-82ea-6104b01ed3a3\",\"type\":\"LegendItem\"},{\"attributes\":{\"callback\":null,\"column_names\":[\"x\",\"y\"],\"data\":{\"x\":[1990,1991,1992,1993,1994,1995,1996,1997,1998,1999,2000,2001,2002,2003,2004,2005,2006,2007,2008,2009,2010,2011,2012,2013,2014,2015,2016,2017],\"y\":{\"__ndarray__\":\"GSMVx2lYTz/3HhP67+B3Px5YqY1nZHo/JUFPaxWufj8RD5lZ98l/Py6AoWhMgXk/NWlHRvrKfT+ORZz65Ol4P3MqQAsZvHU/y9u+Lz+WdT+wwGJAc2iCP97inrGYNXk/0ZmOfSibfj8cpJd2tyaBP271q0QbsHo/KnbjMRO6eT8OMLGygkd7P39Ieq/EEXU/V+QNjIhJdz8vq3f4EMZ0PyCuVa3w7YA/2iku/0sUgD8DPU2emzZ3P+ch8a7PCHQ/p4EQQzyVdz9gI2CJvxxyPyCuVa3w7XA/j3ByiqkudD8=\",\"dtype\":\"float64\",\"shape\":[28]}},\"selected\":null,\"selection_policy\":null},\"id\":\"1bf02d94-5825-4473-9167-a937fc29e030\",\"type\":\"ColumnDataSource\"},{\"attributes\":{\"callback\":null,\"column_names\":[\"x\",\"y\"],\"data\":{\"x\":[1990,1991,1992,1993,1994,1995,1996,1997,1998,1999,2000,2001,2002,2003,2004,2005,2006,2007,2008,2009,2010,2011,2012,2013,2014,2015,2016,2017],\"y\":{\"__ndarray__\":\"vOSn1XhuPz/AyfwIA0WCP9+VunQsDoM/f0ws/iXcfT9uH4A0scmGP23YsiDRG4A/ov0+ndl7gT9wZk1IkXd9P0O0sCbTSXw/WMaxI9Iyhj8Uu0bxNG6EP6pwLvgjroE/UFPCyIcAhj8qFBUCFAWFP+hPd+NW7nk/2GmYLcKJeT/3NVaZ61J6P63+yB/kCX8/z6/bvpepgj9QU8LIhwB2PzKHBF1eN3U/wMn8CANFgj/3NVaZ61J6P3y+kdZlgHA/5giqz3ZAcz+dGOppT6VuP7zkp9V4bm8/yYO5dy0leT8=\",\"dtype\":\"float64\",\"shape\":[28]}},\"selected\":null,\"selection_policy\":null},\"id\":\"2227c7ad-86a7-4fed-b2b4-6fe3eb05148d\",\"type\":\"ColumnDataSource\"},{\"attributes\":{\"label\":{\"value\":\"OH\"},\"renderers\":[{\"id\":\"357a4e0c-231e-4e66-8003-d11bcc0abc10\",\"type\":\"GlyphRenderer\"}]},\"id\":\"9db3c016-4b99-424e-af40-a1d90f0746b7\",\"type\":\"LegendItem\"},{\"attributes\":{\"source\":{\"id\":\"445ad638-0883-42e4-833a-49035826ce48\",\"type\":\"ColumnDataSource\"}},\"id\":\"79a81807-5f35-4317-a948-8a5d58ab39bf\",\"type\":\"CDSView\"},{\"attributes\":{},\"id\":\"1931677f-f4ad-42ce-a6cd-42f2e6eb9510\",\"type\":\"BasicTicker\"},{\"attributes\":{\"line_alpha\":0.2,\"line_color\":\"#2ca02c\",\"line_width\":2,\"x\":{\"field\":\"x\"},\"y\":{\"field\":\"y\"}},\"id\":\"58d1f219-dd0a-4306-b642-fd7f1124f484\",\"type\":\"Line\"},{\"attributes\":{\"line_alpha\":0.2,\"line_color\":\"#98df8a\",\"line_width\":2,\"x\":{\"field\":\"x\"},\"y\":{\"field\":\"y\"}},\"id\":\"5c81116c-978b-4edc-b994-7b50284a146a\",\"type\":\"Line\"},{\"attributes\":{\"source\":{\"id\":\"425a592c-0bbb-4c95-a490-6cc3e7f2f36f\",\"type\":\"ColumnDataSource\"}},\"id\":\"ea127eb9-eed5-4003-8fdd-946ec2769d37\",\"type\":\"CDSView\"},{\"attributes\":{\"data_source\":{\"id\":\"2227c7ad-86a7-4fed-b2b4-6fe3eb05148d\",\"type\":\"ColumnDataSource\"},\"glyph\":{\"id\":\"22dcbc33-ddf4-416a-ae02-3f14f530c050\",\"type\":\"Line\"},\"hover_glyph\":null,\"muted_glyph\":{\"id\":\"6fe51f4b-aa93-42a2-86c0-cad6ad1a2348\",\"type\":\"Line\"},\"nonselection_glyph\":{\"id\":\"7d23a008-9041-4df5-9b4a-55f807ebae86\",\"type\":\"Line\"},\"selection_glyph\":null,\"view\":{\"id\":\"6e66c1dd-207e-4324-9e1f-41043fb21db2\",\"type\":\"CDSView\"}},\"id\":\"9e432c43-e90e-4f68-990e-97279ad27a0f\",\"type\":\"GlyphRenderer\"},{\"attributes\":{\"label\":{\"value\":\"GA\"},\"renderers\":[{\"id\":\"23d683a8-982e-4bdb-a9ec-ff18db1d47b9\",\"type\":\"GlyphRenderer\"}]},\"id\":\"0ce24f6e-de86-4991-8f90-7bbf942c2941\",\"type\":\"LegendItem\"},{\"attributes\":{\"data_source\":{\"id\":\"1bf02d94-5825-4473-9167-a937fc29e030\",\"type\":\"ColumnDataSource\"},\"glyph\":{\"id\":\"8b57b6ee-0f0e-4141-a821-a59457bb8312\",\"type\":\"Line\"},\"hover_glyph\":null,\"muted_glyph\":{\"id\":\"8369fd6a-d2b2-48a2-ae36-9f49fa1b94fd\",\"type\":\"Line\"},\"nonselection_glyph\":{\"id\":\"cb668098-31f6-45da-9b38-d5b8f65823b2\",\"type\":\"Line\"},\"selection_glyph\":null,\"view\":{\"id\":\"db436a55-9e57-442a-a75c-f4395d75ffd5\",\"type\":\"CDSView\"}},\"id\":\"8c3fbbd4-c03f-4316-8848-e30deb3a7a8e\",\"type\":\"GlyphRenderer\"},{\"attributes\":{\"callback\":null,\"column_names\":[\"x\",\"y\"],\"data\":{\"x\":[1990,1991,1992,1993,1994,1995,1996,1997,1998,1999,2000,2001,2002,2003,2004,2005,2006,2007,2008,2009,2010,2011,2012,2013,2014,2015,2016,2017],\"y\":{\"__ndarray__\":\"jrOTiRfEUD++a0WJABaBPwW03q/C4IA/87vZOiDIgj/Qaq88qtyAPzTi337y9ns/GwYH//3Nez9hVQVkx0Z9P54h6M0AoXk/VuCz5UWEez8bBgf//c2LP/43kPeoOIY/nRPqzrrgkT9SSNEzDyR6P7ASiAScC3Y/wL6bICN0cz93KhGhRflyPxEiy+889XA/fbQp1m39cD8DaO1WpzBwPxLdptmXu4o/IS//H/UXhD9u+ks92DhwP6BmdOgUo3g/Dt0+1SjzcT+W41jthIRzP3TlhIYx93M//Oueno2IdT8=\",\"dtype\":\"float64\",\"shape\":[28]}},\"selected\":null,\"selection_policy\":null},\"id\":\"6c499839-005a-4c4e-a99e-993c19bccdff\",\"type\":\"ColumnDataSource\"},{\"attributes\":{\"line_alpha\":0.1,\"line_color\":\"#1f77b4\",\"line_width\":2,\"x\":{\"field\":\"x\"},\"y\":{\"field\":\"y\"}},\"id\":\"1a787ebb-88dc-43b2-a3b9-c8f1e6d2837b\",\"type\":\"Line\"},{\"attributes\":{\"dimension\":1,\"plot\":{\"id\":\"6985ef14-2246-4056-b3d9-7f1b0fd82b44\",\"subtype\":\"Figure\",\"type\":\"Plot\"},\"ticker\":{\"id\":\"1931677f-f4ad-42ce-a6cd-42f2e6eb9510\",\"type\":\"BasicTicker\"}},\"id\":\"e020da64-d3cf-43ca-8649-906bb57c63f4\",\"type\":\"Grid\"},{\"attributes\":{\"line_alpha\":0.2,\"line_color\":\"#e377c2\",\"line_width\":2,\"x\":{\"field\":\"x\"},\"y\":{\"field\":\"y\"}},\"id\":\"6fe51f4b-aa93-42a2-86c0-cad6ad1a2348\",\"type\":\"Line\"},{\"attributes\":{\"line_alpha\":0.1,\"line_color\":\"#1f77b4\",\"line_width\":2,\"x\":{\"field\":\"x\"},\"y\":{\"field\":\"y\"}},\"id\":\"3ad91d4c-8266-4a94-b7a7-f5d2a18329c5\",\"type\":\"Line\"},{\"attributes\":{},\"id\":\"44edb751-5f26-40c7-9474-0a54093ce071\",\"type\":\"LinearScale\"},{\"attributes\":{\"line_color\":\"#dbdb8d\",\"line_width\":2,\"x\":{\"field\":\"x\"},\"y\":{\"field\":\"y\"}},\"id\":\"e500c07b-299f-4a2c-a1be-62a8b3bf46de\",\"type\":\"Line\"},{\"attributes\":{\"source\":{\"id\":\"1bf02d94-5825-4473-9167-a937fc29e030\",\"type\":\"ColumnDataSource\"}},\"id\":\"db436a55-9e57-442a-a75c-f4395d75ffd5\",\"type\":\"CDSView\"},{\"attributes\":{\"callback\":null,\"column_names\":[\"x\",\"y\"],\"data\":{\"x\":[1990,1991,1992,1993,1994,1995,1996,1997,1998,1999,2000,2001,2002,2003,2004,2005,2006,2007,2008,2009,2010,2011,2012,2013,2014,2015,2016,2017],\"y\":{\"__ndarray__\":\"tnnKHKdGVz+Bbjwykk+AP3Shk6QHYYM/X0lzR5//gD8FSyBMRG2CPxy5+z3m94E/oX1KiEt2gj89giRgzLaDP1+9qN/4L4A/D9aXGyLghz/j4UtokSuHP1ohsZNSmX8/aeqlq7abgz9J25dV/XSBP0WbQNJjb34/L4kFqc51fD9oGtBKUNp2PxAaoxTi0XM/2RDvZOBQcT+r8CyI3El2P+9QevL7EoI/Xxsj4xg3gj8l0D11ajp4P+2Cfsyox3k/ctOXfrQVaz8YGyq3LOtsP+32s2QC+Gg/+JfmyBmUaz8=\",\"dtype\":\"float64\",\"shape\":[28]}},\"selected\":null,\"selection_policy\":null},\"id\":\"14c08e42-4b6c-44f8-9c56-4dab27fe85d3\",\"type\":\"ColumnDataSource\"},{\"attributes\":{\"data_source\":{\"id\":\"416491f4-32bf-4515-9a4e-2d11b4e319e0\",\"type\":\"ColumnDataSource\"},\"glyph\":{\"id\":\"df5f07d8-5052-4c61-b88b-737c7f421d9c\",\"type\":\"Line\"},\"hover_glyph\":null,\"muted_glyph\":{\"id\":\"6e12f50f-8f84-4566-8b94-b0f724a94249\",\"type\":\"Line\"},\"nonselection_glyph\":{\"id\":\"11ec9187-b28b-4f23-bb4c-1f262350af3e\",\"type\":\"Line\"},\"selection_glyph\":null,\"view\":{\"id\":\"4e076396-a640-4c88-a463-e689068e55c3\",\"type\":\"CDSView\"}},\"id\":\"1b702a12-029b-4ba3-a3c9-300777f46cff\",\"type\":\"GlyphRenderer\"},{\"attributes\":{\"source\":{\"id\":\"2227c7ad-86a7-4fed-b2b4-6fe3eb05148d\",\"type\":\"ColumnDataSource\"}},\"id\":\"6e66c1dd-207e-4324-9e1f-41043fb21db2\",\"type\":\"CDSView\"},{\"attributes\":{\"callback\":null,\"names\":[\"AK\",\"AL\",\"AR\",\"AZ\",\"CA\",\"CO\",\"CT\",\"DC\",\"DE\",\"FL\",\"GA\",\"HI\",\"IA\",\"ID\",\"IL\",\"IN\",\"KS\",\"KY\",\"LA\",\"MA\",\"MD\",\"ME\",\"MI\",\"MN\",\"MO\",\"MS\",\"MT\",\"NC\",\"ND\",\"NE\",\"NH\",\"NJ\",\"NM\",\"NV\",\"NY\",\"OH\",\"OK\",\"OR\",\"PA\",\"PR\",\"RI\",\"SC\",\"SD\",\"TN\",\"TX\",\"UT\",\"VA\",\"VT\",\"WA\",\"WI\",\"WV\",\"WY\"]},\"id\":\"b1bebdb9-eeb6-4f7c-92d8-a96af8d57602\",\"type\":\"HoverTool\"},{\"attributes\":{\"callback\":null},\"id\":\"3b45634a-c9e6-40b4-894e-5ee89f9f4f7d\",\"type\":\"DataRange1d\"},{\"attributes\":{\"callback\":null,\"column_names\":[\"x\",\"y\"],\"data\":{\"x\":[1990,1991,1992,1993,1994,1995,1996,1997,1998,1999,2000,2001,2002,2003,2004,2005,2006,2007,2008,2009,2010,2011,2012,2013,2014,2015,2016,2017],\"y\":{\"__ndarray__\":\"LK8vtuayPj/dY+xRaIVvPxyH+w1xFHk//1kq0SlhdT/NO7ip8uZ5P2vSPnLvQXg/Q8NntHoDfj9x69ewoqR8P8A2GxUh0ns/JpaWdzNQej+GBI8Zr4iNPxh97qPTrJc/dtxacTnqhz9Dw2e0egOOP+s79P2k6YI/Wtefsg5UfT+VBK1DCAp6PxyH+w1xFHk/nxNIrcpFez/NO7ip8uZ5P1e0CJ9qynU/PqVPC08NiD/DLB1AMKt4P1Gbb2C3Z3E/nPCwmSa8cz9N0gIePT9vPzB4nPhg23A/LYKazVECdD8=\",\"dtype\":\"float64\",\"shape\":[28]}},\"selected\":null,\"selection_policy\":null},\"id\":\"cf41b570-8c17-4a25-a10e-b77839292274\",\"type\":\"ColumnDataSource\"},{\"attributes\":{\"line_alpha\":0.2,\"line_color\":\"#7f7f7f\",\"line_width\":2,\"x\":{\"field\":\"x\"},\"y\":{\"field\":\"y\"}},\"id\":\"bd42fa61-2353-4ae1-8791-f080937d28a9\",\"type\":\"Line\"},{\"attributes\":{\"active_drag\":\"auto\",\"active_inspect\":\"auto\",\"active_scroll\":\"auto\",\"active_tap\":\"auto\",\"tools\":[{\"id\":\"b1bebdb9-eeb6-4f7c-92d8-a96af8d57602\",\"type\":\"HoverTool\"}]},\"id\":\"93e8a170-56b0-4fab-8a43-5572bc35a616\",\"type\":\"Toolbar\"},{\"attributes\":{\"source\":{\"id\":\"4ff8ee47-c3c2-4c7d-94e4-19bbba2a0e04\",\"type\":\"ColumnDataSource\"}},\"id\":\"e7794e74-898b-4b8a-a596-2f3d9883db78\",\"type\":\"CDSView\"},{\"attributes\":{\"source\":{\"id\":\"cf41b570-8c17-4a25-a10e-b77839292274\",\"type\":\"ColumnDataSource\"}},\"id\":\"24d8bbcc-c17f-49b0-aa61-532486aecb73\",\"type\":\"CDSView\"},{\"attributes\":{\"line_color\":\"#98df8a\",\"line_width\":2,\"x\":{\"field\":\"x\"},\"y\":{\"field\":\"y\"}},\"id\":\"9529d7c8-89c7-4ac8-95ad-1734a58a028e\",\"type\":\"Line\"},{\"attributes\":{\"data_source\":{\"id\":\"14c08e42-4b6c-44f8-9c56-4dab27fe85d3\",\"type\":\"ColumnDataSource\"},\"glyph\":{\"id\":\"bd81645b-ec9d-46aa-a772-f22a9bfcc0ec\",\"type\":\"Line\"},\"hover_glyph\":null,\"muted_glyph\":{\"id\":\"bd42fa61-2353-4ae1-8791-f080937d28a9\",\"type\":\"Line\"},\"nonselection_glyph\":{\"id\":\"3ad91d4c-8266-4a94-b7a7-f5d2a18329c5\",\"type\":\"Line\"},\"selection_glyph\":null,\"view\":{\"id\":\"df46fdc1-b4b3-4c23-b4f1-860b0c982835\",\"type\":\"CDSView\"}},\"id\":\"357a4e0c-231e-4e66-8003-d11bcc0abc10\",\"type\":\"GlyphRenderer\"},{\"attributes\":{\"line_alpha\":0.1,\"line_color\":\"#1f77b4\",\"line_width\":2,\"x\":{\"field\":\"x\"},\"y\":{\"field\":\"y\"}},\"id\":\"40d2b004-9a89-4a77-8f2a-c3408e015a9b\",\"type\":\"Line\"},{\"attributes\":{\"label\":{\"value\":\"KS\"},\"renderers\":[{\"id\":\"30a5d3b5-52d6-4caa-abb4-a2b453f56bec\",\"type\":\"GlyphRenderer\"}]},\"id\":\"07dc41df-e069-4dd6-bb65-5bce60bed202\",\"type\":\"LegendItem\"},{\"attributes\":{},\"id\":\"1177ae0c-b1dc-417c-9b9b-f450f5fd3ffd\",\"type\":\"BasicTicker\"},{\"attributes\":{\"source\":{\"id\":\"27680b33-0852-4ff7-b617-a3be0436ea5c\",\"type\":\"ColumnDataSource\"}},\"id\":\"0f5d8d9f-7a7d-4b3d-82b3-61710697cb40\",\"type\":\"CDSView\"},{\"attributes\":{\"line_alpha\":0.1,\"line_color\":\"#1f77b4\",\"line_width\":2,\"x\":{\"field\":\"x\"},\"y\":{\"field\":\"y\"}},\"id\":\"86f47954-044e-4370-a678-f3cb11c420ba\",\"type\":\"Line\"},{\"attributes\":{},\"id\":\"6181d83a-01be-45a1-9958-3b339e4052f4\",\"type\":\"BasicTickFormatter\"},{\"attributes\":{\"label\":{\"value\":\"FL\"},\"renderers\":[{\"id\":\"65229b99-b60e-4f6a-a73d-590fe6f36d00\",\"type\":\"GlyphRenderer\"}]},\"id\":\"4c0a2fb7-d571-4e63-a4ec-d692bc8be4b0\",\"type\":\"LegendItem\"},{\"attributes\":{\"axis_label\":\"Malpractice cases filed per 10,000\",\"formatter\":{\"id\":\"bbacad84-e24b-48ea-8e7d-ad8d06cf6c04\",\"type\":\"BasicTickFormatter\"},\"plot\":{\"id\":\"6985ef14-2246-4056-b3d9-7f1b0fd82b44\",\"subtype\":\"Figure\",\"type\":\"Plot\"},\"ticker\":{\"id\":\"1931677f-f4ad-42ce-a6cd-42f2e6eb9510\",\"type\":\"BasicTicker\"}},\"id\":\"7169dfe0-74d8-4b8d-a02b-fc544a49ff1e\",\"type\":\"LinearAxis\"},{\"attributes\":{\"data_source\":{\"id\":\"27680b33-0852-4ff7-b617-a3be0436ea5c\",\"type\":\"ColumnDataSource\"},\"glyph\":{\"id\":\"9529d7c8-89c7-4ac8-95ad-1734a58a028e\",\"type\":\"Line\"},\"hover_glyph\":null,\"muted_glyph\":{\"id\":\"5c81116c-978b-4edc-b994-7b50284a146a\",\"type\":\"Line\"},\"nonselection_glyph\":{\"id\":\"1a787ebb-88dc-43b2-a3b9-c8f1e6d2837b\",\"type\":\"Line\"},\"selection_glyph\":null,\"view\":{\"id\":\"0f5d8d9f-7a7d-4b3d-82b3-61710697cb40\",\"type\":\"CDSView\"}},\"id\":\"2533247e-87cb-4066-a4c1-0f0a6842da5c\",\"type\":\"GlyphRenderer\"},{\"attributes\":{\"callback\":null,\"column_names\":[\"x\",\"y\"],\"data\":{\"x\":[1990,1991,1992,1993,1994,1995,1996,1997,1998,1999,2000,2001,2002,2003,2004,2005,2006,2007,2008,2009,2010,2011,2012,2013,2014,2015,2016,2017],\"y\":{\"__ndarray__\":\"9SI+CII6Qj/WAJKgkXlyP0kJCMTYkHA/Xgl9us1pcj+4POlCIL11P9uRLVmPbXE//0R1eX0icD/bkS1Zj21xP5VFqDYwEW0/t97lOKG4cj8sAWZ6Zd15P6I8dEwr5HM/8ZGiT4RGcz/wM59FBUJwP6xeq70mzHE/bAHFXURobz+rRR0tJepuP7pW82Cdym4/5hFo1Alacj+VRag2MBFtP/OrrG0BVGw/3qs3dwx7ej8i3y4JavVrP294VvjETmU/uZrsTJ/BaD8i3y4JavVrP/3N4978O2o/qYkWGSfhaD8=\",\"dtype\":\"float64\",\"shape\":[28]}},\"selected\":null,\"selection_policy\":null},\"id\":\"da0d597e-6a2a-465e-a147-356c1311dba6\",\"type\":\"ColumnDataSource\"},{\"attributes\":{\"source\":{\"id\":\"ede66bc7-de6d-4012-8297-8817f5ca4d5f\",\"type\":\"ColumnDataSource\"}},\"id\":\"93247936-dfee-4b21-a12b-bd08c5eac39d\",\"type\":\"CDSView\"},{\"attributes\":{\"line_alpha\":0.2,\"line_color\":\"#ff7f0e\",\"line_width\":2,\"x\":{\"field\":\"x\"},\"y\":{\"field\":\"y\"}},\"id\":\"8369fd6a-d2b2-48a2-ae36-9f49fa1b94fd\",\"type\":\"Line\"},{\"attributes\":{\"source\":{\"id\":\"416491f4-32bf-4515-9a4e-2d11b4e319e0\",\"type\":\"ColumnDataSource\"}},\"id\":\"4e076396-a640-4c88-a463-e689068e55c3\",\"type\":\"CDSView\"},{\"attributes\":{\"line_alpha\":0.1,\"line_color\":\"#1f77b4\",\"line_width\":2,\"x\":{\"field\":\"x\"},\"y\":{\"field\":\"y\"}},\"id\":\"32aae661-01fc-4a56-8f02-afa12fa31260\",\"type\":\"Line\"},{\"attributes\":{\"callback\":null},\"id\":\"921f6c0b-ecf7-4594-b642-5055975439fc\",\"type\":\"DataRange1d\"},{\"attributes\":{\"line_color\":\"#c7c7c7\",\"line_width\":2,\"x\":{\"field\":\"x\"},\"y\":{\"field\":\"y\"}},\"id\":\"df5f07d8-5052-4c61-b88b-737c7f421d9c\",\"type\":\"Line\"},{\"attributes\":{\"data_source\":{\"id\":\"6c499839-005a-4c4e-a99e-993c19bccdff\",\"type\":\"ColumnDataSource\"},\"glyph\":{\"id\":\"5209d8cb-fb0c-4678-bb75-a5d56d9ce9df\",\"type\":\"Line\"},\"hover_glyph\":null,\"muted_glyph\":{\"id\":\"6f24e60e-5423-41ad-8e4a-3e6fa996c56b\",\"type\":\"Line\"},\"nonselection_glyph\":{\"id\":\"81a8f54d-73a1-435a-9a57-ff1b3c3413c2\",\"type\":\"Line\"},\"selection_glyph\":null,\"view\":{\"id\":\"bc138209-a70c-47a3-806f-cf6179e49c53\",\"type\":\"CDSView\"}},\"id\":\"ec312f0c-d240-4763-a474-12eadf2e678e\",\"type\":\"GlyphRenderer\"},{\"attributes\":{\"line_alpha\":0.1,\"line_color\":\"#1f77b4\",\"line_width\":2,\"x\":{\"field\":\"x\"},\"y\":{\"field\":\"y\"}},\"id\":\"cb668098-31f6-45da-9b38-d5b8f65823b2\",\"type\":\"Line\"},{\"attributes\":{\"line_alpha\":0.2,\"line_color\":\"#d62728\",\"line_width\":2,\"x\":{\"field\":\"x\"},\"y\":{\"field\":\"y\"}},\"id\":\"6f24e60e-5423-41ad-8e4a-3e6fa996c56b\",\"type\":\"Line\"},{\"attributes\":{\"plot\":{\"id\":\"6985ef14-2246-4056-b3d9-7f1b0fd82b44\",\"subtype\":\"Figure\",\"type\":\"Plot\"},\"ticker\":{\"id\":\"1177ae0c-b1dc-417c-9b9b-f450f5fd3ffd\",\"type\":\"BasicTicker\"}},\"id\":\"830f6d55-1d57-4422-b4cc-6a3afea6ca75\",\"type\":\"Grid\"},{\"attributes\":{\"label\":{\"value\":\"AR\"},\"renderers\":[{\"id\":\"8f963179-6fc7-4ccc-918d-ed0b19bcd54a\",\"type\":\"GlyphRenderer\"}]},\"id\":\"f89d0a08-6ff4-4299-9aaf-b165250b05a4\",\"type\":\"LegendItem\"},{\"attributes\":{\"line_color\":\"#ffbb78\",\"line_width\":2,\"x\":{\"field\":\"x\"},\"y\":{\"field\":\"y\"}},\"id\":\"f57e6dcb-15a6-464d-81bd-3338d4a63ce6\",\"type\":\"Line\"},{\"attributes\":{\"callback\":null,\"column_names\":[\"x\",\"y\"],\"data\":{\"x\":[1990,1991,1992,1993,1994,1995,1996,1997,1998,1999,2000,2001,2002,2003,2004,2005,2006,2007,2008,2009,2010,2011,2012,2013,2014,2015,2016,2017],\"y\":{\"__ndarray__\":\"iMnot3MeWT/3S6cV4X2GPxRWUT0MDok/+EE0tXoDiD+j53iga6OIP+ojuoLRIIo/YpKdeplciz/7LU70rQ6LP12w9pvMy4Y/HlGoFZQKiz9PaqWMYi6OP/j9dgCcG5A/xOxuRfdejD+Kv3VXDaSKP+YZPMdD1Yo/W6s3vgUmhz+4FDBsaXeFP13YzXiNhoE/b/GTKJeUgD8pq9/lypyAP58UBADMMoI/d+crI1jrgj8mbxftFRyIPyZHQBBVYX0/Q2qP1hOMfD8zR1bGowN/P5Gm2xOh2n4/rigL0g6bgT8=\",\"dtype\":\"float64\",\"shape\":[28]}},\"selected\":null,\"selection_policy\":null},\"id\":\"416491f4-32bf-4515-9a4e-2d11b4e319e0\",\"type\":\"ColumnDataSource\"},{\"attributes\":{\"source\":{\"id\":\"da0d597e-6a2a-465e-a147-356c1311dba6\",\"type\":\"ColumnDataSource\"}},\"id\":\"f7c35b5d-9919-4411-9e1d-9bd017ad1087\",\"type\":\"CDSView\"},{\"attributes\":{},\"id\":\"bbacad84-e24b-48ea-8e7d-ad8d06cf6c04\",\"type\":\"BasicTickFormatter\"},{\"attributes\":{\"line_color\":\"#ff7f0e\",\"line_width\":2,\"x\":{\"field\":\"x\"},\"y\":{\"field\":\"y\"}},\"id\":\"8b57b6ee-0f0e-4141-a821-a59457bb8312\",\"type\":\"Line\"},{\"attributes\":{\"line_alpha\":0.2,\"line_color\":\"#f7b6d2\",\"line_width\":2,\"x\":{\"field\":\"x\"},\"y\":{\"field\":\"y\"}},\"id\":\"bf2459c8-c029-4f71-9591-52a991e96f07\",\"type\":\"Line\"},{\"attributes\":{\"callback\":null,\"column_names\":[\"x\",\"y\"],\"data\":{\"x\":[1990,1991,1992,1993,1994,1995,1996,1997,1998,1999,2000,2001,2002,2003,2004,2005,2006,2007,2008,2009,2010,2011,2012,2013,2014,2015,2016,2017],\"y\":{\"__ndarray__\":\"Lb/Zi3qaPD/OOA5lZaZrP5FmGs8LTm8/blyr52Jibz9e2bl3VlxxP8rDx/XDhnA/9rpswVuZcT/6hi2JzgBxP+0i6zF2ynI/khJJfObtdT+eylwmZIR9P3PUmlywaXU/xaCM1X/XfD+rLp99vLp7P6djwbctS3U/VUE46HCNcj+AjZEIEvh1P5/LPyhIfHY/4Gn0hRQ8cj/gafSFFDxyPz6ZRVRY6G4/tHFsuJgxeD/oAJMTFhNoP5sAYmK5DHA/BpT1h1Xvaj9z07dazHFsPxNN7DO3fWs/wX8XuQMYaz8=\",\"dtype\":\"float64\",\"shape\":[28]}},\"selected\":null,\"selection_policy\":null},\"id\":\"445ad638-0883-42e4-833a-49035826ce48\",\"type\":\"ColumnDataSource\"},{\"attributes\":{\"line_color\":\"#e377c2\",\"line_width\":2,\"x\":{\"field\":\"x\"},\"y\":{\"field\":\"y\"}},\"id\":\"22dcbc33-ddf4-416a-ae02-3f14f530c050\",\"type\":\"Line\"},{\"attributes\":{\"source\":{\"id\":\"14c08e42-4b6c-44f8-9c56-4dab27fe85d3\",\"type\":\"ColumnDataSource\"}},\"id\":\"df46fdc1-b4b3-4c23-b4f1-860b0c982835\",\"type\":\"CDSView\"},{\"attributes\":{\"data_source\":{\"id\":\"b287d82e-2c70-48b5-abd1-e6ba05da1535\",\"type\":\"ColumnDataSource\"},\"glyph\":{\"id\":\"f57e6dcb-15a6-464d-81bd-3338d4a63ce6\",\"type\":\"Line\"},\"hover_glyph\":null,\"muted_glyph\":{\"id\":\"a174f16f-5ee6-4241-8e93-3581b0ac0f0d\",\"type\":\"Line\"},\"nonselection_glyph\":{\"id\":\"1c068859-d933-4016-b39e-c86fa2ab812d\",\"type\":\"Line\"},\"selection_glyph\":null,\"view\":{\"id\":\"e314002b-8cd5-4d28-814b-7d047d42beca\",\"type\":\"CDSView\"}},\"id\":\"65229b99-b60e-4f6a-a73d-590fe6f36d00\",\"type\":\"GlyphRenderer\"},{\"attributes\":{\"line_alpha\":0.2,\"line_color\":\"#c7c7c7\",\"line_width\":2,\"x\":{\"field\":\"x\"},\"y\":{\"field\":\"y\"}},\"id\":\"6e12f50f-8f84-4566-8b94-b0f724a94249\",\"type\":\"Line\"},{\"attributes\":{\"source\":{\"id\":\"6c499839-005a-4c4e-a99e-993c19bccdff\",\"type\":\"ColumnDataSource\"}},\"id\":\"bc138209-a70c-47a3-806f-cf6179e49c53\",\"type\":\"CDSView\"},{\"attributes\":{\"line_alpha\":0.1,\"line_color\":\"#1f77b4\",\"line_width\":2,\"x\":{\"field\":\"x\"},\"y\":{\"field\":\"y\"}},\"id\":\"7d23a008-9041-4df5-9b4a-55f807ebae86\",\"type\":\"Line\"},{\"attributes\":{\"click_policy\":\"mute\",\"items\":[{\"id\":\"f89d0a08-6ff4-4299-9aaf-b165250b05a4\",\"type\":\"LegendItem\"},{\"id\":\"73fb6b67-f9f6-49fb-8e37-582562fee8c5\",\"type\":\"LegendItem\"},{\"id\":\"a5ddfe9b-35e1-4ad8-88e3-07efbb938843\",\"type\":\"LegendItem\"},{\"id\":\"4c0a2fb7-d571-4e63-a4ec-d692bc8be4b0\",\"type\":\"LegendItem\"},{\"id\":\"0ce24f6e-de86-4991-8f90-7bbf942c2941\",\"type\":\"LegendItem\"},{\"id\":\"9aa5cabd-2a5b-418c-a153-cb69fa00b279\",\"type\":\"LegendItem\"},{\"id\":\"e6e53188-ae7c-400e-8551-2fbc297c293f\",\"type\":\"LegendItem\"},{\"id\":\"07dc41df-e069-4dd6-bb65-5bce60bed202\",\"type\":\"LegendItem\"},{\"id\":\"792b4e2f-a53d-4cdc-accc-a81c1ab06385\",\"type\":\"LegendItem\"},{\"id\":\"02d38018-40e6-43b5-80a8-d0380e1a3e1f\",\"type\":\"LegendItem\"},{\"id\":\"bdf04b28-9176-43af-b5b3-3ac4c9841f98\",\"type\":\"LegendItem\"},{\"id\":\"a56fef2e-76d1-4c06-a7e8-98b0b7f131da\",\"type\":\"LegendItem\"},{\"id\":\"542a8135-a232-4492-8e5d-b4f52bb659cd\",\"type\":\"LegendItem\"},{\"id\":\"93c42ff9-9eb1-49f4-a0a8-73ee2438e111\",\"type\":\"LegendItem\"},{\"id\":\"9db3c016-4b99-424e-af40-a1d90f0746b7\",\"type\":\"LegendItem\"},{\"id\":\"3eb9e0b9-75d7-485d-82ea-6104b01ed3a3\",\"type\":\"LegendItem\"},{\"id\":\"52629242-7efe-48d0-9ac1-80ce39305f7d\",\"type\":\"LegendItem\"},{\"id\":\"536a2d9a-2cc3-412c-a8e8-b48cf1be9fbf\",\"type\":\"LegendItem\"}],\"location\":\"top_left\",\"plot\":{\"id\":\"6985ef14-2246-4056-b3d9-7f1b0fd82b44\",\"subtype\":\"Figure\",\"type\":\"Plot\"}},\"id\":\"547cc7e3-93a8-4b03-9f79-455e91a205ae\",\"type\":\"Legend\"},{\"attributes\":{\"callback\":null,\"column_names\":[\"x\",\"y\"],\"data\":{\"x\":[1990,1991,1992,1993,1994,1995,1996,1997,1998,1999,2000,2001,2002,2003,2004,2005,2006,2007,2008,2009,2010,2011,2012,2013,2014,2015,2016,2017],\"y\":{\"__ndarray__\":\"x1hWvfhiWj9Dmj3e7OmIP5kE6lP0hYw/Q3Cy7+Cuiz9LF2+cBNyLPzZPqOlId4Y/l3HOFcY7hz8bPsCZgMiHP6puFfeYB4s/7dt6i83Xij8My8lvKG6RPxQqHyuL5Yw/NSUd+zw8iT+Red/wLYCKPwQGMcBPxok/E5cD7Vybhz+dMVmno6iHP2GuCZNYgIU/UXxCg25Ngz8JT1JdXBCDP4c/BwbcCIU/fnyYD1u0hj+ZtwtOL56CP+mZkcUTHII/KBLsmVMYgz8mR2zIan+BP9OLjdruVIE/i16dtNwXgT8=\",\"dtype\":\"float64\",\"shape\":[28]}},\"selected\":null,\"selection_policy\":null},\"id\":\"425a592c-0bbb-4c95-a490-6cc3e7f2f36f\",\"type\":\"ColumnDataSource\"},{\"attributes\":{\"label\":{\"value\":\"IA\"},\"renderers\":[{\"id\":\"2533247e-87cb-4066-a4c1-0f0a6842da5c\",\"type\":\"GlyphRenderer\"}]},\"id\":\"9aa5cabd-2a5b-418c-a153-cb69fa00b279\",\"type\":\"LegendItem\"},{\"attributes\":{\"label\":{\"value\":\"MT\"},\"renderers\":[{\"id\":\"9e432c43-e90e-4f68-990e-97279ad27a0f\",\"type\":\"GlyphRenderer\"}]},\"id\":\"542a8135-a232-4492-8e5d-b4f52bb659cd\",\"type\":\"LegendItem\"},{\"attributes\":{\"label\":{\"value\":\"CO\"},\"renderers\":[{\"id\":\"8c3fbbd4-c03f-4316-8848-e30deb3a7a8e\",\"type\":\"GlyphRenderer\"}]},\"id\":\"a5ddfe9b-35e1-4ad8-88e3-07efbb938843\",\"type\":\"LegendItem\"},{\"attributes\":{\"line_alpha\":0.2,\"line_color\":\"#ff9896\",\"line_width\":2,\"x\":{\"field\":\"x\"},\"y\":{\"field\":\"y\"}},\"id\":\"26729914-b250-4866-ac4b-6bc1e66a8603\",\"type\":\"Line\"},{\"attributes\":{\"data_source\":{\"id\":\"425a592c-0bbb-4c95-a490-6cc3e7f2f36f\",\"type\":\"ColumnDataSource\"},\"glyph\":{\"id\":\"288d9e6c-d136-44ca-a433-b546bd9035b5\",\"type\":\"Line\"},\"hover_glyph\":null,\"muted_glyph\":{\"id\":\"bf2459c8-c029-4f71-9591-52a991e96f07\",\"type\":\"Line\"},\"nonselection_glyph\":{\"id\":\"86f47954-044e-4370-a678-f3cb11c420ba\",\"type\":\"Line\"},\"selection_glyph\":null,\"view\":{\"id\":\"ea127eb9-eed5-4003-8fdd-946ec2769d37\",\"type\":\"CDSView\"}},\"id\":\"2bd5f458-4ed5-464a-a5c1-da5ff071410f\",\"type\":\"GlyphRenderer\"},{\"attributes\":{\"line_color\":\"#bcbd22\",\"line_width\":2,\"x\":{\"field\":\"x\"},\"y\":{\"field\":\"y\"}},\"id\":\"b13f2e27-6e46-47f7-843e-ee883eb37f22\",\"type\":\"Line\"},{\"attributes\":{\"data_source\":{\"id\":\"4ff8ee47-c3c2-4c7d-94e4-19bbba2a0e04\",\"type\":\"ColumnDataSource\"},\"glyph\":{\"id\":\"e0870d76-7f0f-4ebc-8b57-15538662a4cd\",\"type\":\"Line\"},\"hover_glyph\":null,\"muted_glyph\":{\"id\":\"26729914-b250-4866-ac4b-6bc1e66a8603\",\"type\":\"Line\"},\"nonselection_glyph\":{\"id\":\"ed477610-b6e9-4662-accb-459925e2e2a1\",\"type\":\"Line\"},\"selection_glyph\":null,\"view\":{\"id\":\"e7794e74-898b-4b8a-a596-2f3d9883db78\",\"type\":\"CDSView\"}},\"id\":\"30a5d3b5-52d6-4caa-abb4-a2b453f56bec\",\"type\":\"GlyphRenderer\"},{\"attributes\":{},\"id\":\"274faf39-e8f1-49ae-83f3-f2e620009a08\",\"type\":\"LinearScale\"},{\"attributes\":{\"line_color\":\"#2ca02c\",\"line_width\":2,\"x\":{\"field\":\"x\"},\"y\":{\"field\":\"y\"}},\"id\":\"2d37536f-5466-45f0-add9-d08610f02a55\",\"type\":\"Line\"},{\"attributes\":{\"data_source\":{\"id\":\"da0d597e-6a2a-465e-a147-356c1311dba6\",\"type\":\"ColumnDataSource\"},\"glyph\":{\"id\":\"b13f2e27-6e46-47f7-843e-ee883eb37f22\",\"type\":\"Line\"},\"hover_glyph\":null,\"muted_glyph\":{\"id\":\"0ce5f27a-6199-4309-bcf2-db44eff520ac\",\"type\":\"Line\"},\"nonselection_glyph\":{\"id\":\"37dcbd74-ea4a-44e7-8c0f-d195416221e6\",\"type\":\"Line\"},\"selection_glyph\":null,\"view\":{\"id\":\"f7c35b5d-9919-4411-9e1d-9bd017ad1087\",\"type\":\"CDSView\"}},\"id\":\"ce5b79fa-b1a9-47f6-ab79-78235fc1cfd4\",\"type\":\"GlyphRenderer\"},{\"attributes\":{\"line_alpha\":0.1,\"line_color\":\"#1f77b4\",\"line_width\":2,\"x\":{\"field\":\"x\"},\"y\":{\"field\":\"y\"}},\"id\":\"1c068859-d933-4016-b39e-c86fa2ab812d\",\"type\":\"Line\"},{\"attributes\":{\"axis_label\":\"Years\",\"formatter\":{\"id\":\"6181d83a-01be-45a1-9958-3b339e4052f4\",\"type\":\"BasicTickFormatter\"},\"plot\":{\"id\":\"6985ef14-2246-4056-b3d9-7f1b0fd82b44\",\"subtype\":\"Figure\",\"type\":\"Plot\"},\"ticker\":{\"id\":\"1177ae0c-b1dc-417c-9b9b-f450f5fd3ffd\",\"type\":\"BasicTicker\"}},\"id\":\"c4bb4296-cd5b-401e-b178-12d48ab4c53b\",\"type\":\"LinearAxis\"},{\"attributes\":{\"line_color\":\"#ff9896\",\"line_width\":2,\"x\":{\"field\":\"x\"},\"y\":{\"field\":\"y\"}},\"id\":\"e0870d76-7f0f-4ebc-8b57-15538662a4cd\",\"type\":\"Line\"},{\"attributes\":{\"line_color\":\"#7f7f7f\",\"line_width\":2,\"x\":{\"field\":\"x\"},\"y\":{\"field\":\"y\"}},\"id\":\"bd81645b-ec9d-46aa-a772-f22a9bfcc0ec\",\"type\":\"Line\"},{\"attributes\":{\"callback\":null,\"column_names\":[\"x\",\"y\"],\"data\":{\"x\":[1990,1991,1992,1993,1994,1995,1996,1997,1998,1999,2000,2001,2002,2003,2004,2005,2006,2007,2008,2009,2010,2011,2012,2013,2014,2015,2016,2017],\"y\":{\"__ndarray__\":\"ODQpSzCYST+cCag38ah1P3HjHvcKgnc/Or9sSTl2eD+69WWyA455P6jpf3ho33k/++NopDoUfz9IDDdcRdx+P5dKjBBiYHw/BwDjPZqnfD+iF2UEoXKEP6aa3tJHXoQ/kSXr3kj5gT82A9nRg8WAP/jrMtScBn4/3mSd+7xefT+5aiK0+q96P4hyfv9MHHc/wQMjf7NXeD9XXIkeK9p2P0nTHLM2F3c/MX3XUwNCfz/cM02CEIx0P0PjsBL7+3Q/mRFyZ1ObdD8PtzQ1x/12P9bp7Vx4ZXw/NQe+6bQ+gD8=\",\"dtype\":\"float64\",\"shape\":[28]}},\"selected\":null,\"selection_policy\":null},\"id\":\"b287d82e-2c70-48b5-abd1-e6ba05da1535\",\"type\":\"ColumnDataSource\"},{\"attributes\":{\"label\":{\"value\":\"TN\"},\"renderers\":[{\"id\":\"ce5b79fa-b1a9-47f6-ab79-78235fc1cfd4\",\"type\":\"GlyphRenderer\"}]},\"id\":\"52629242-7efe-48d0-9ac1-80ce39305f7d\",\"type\":\"LegendItem\"},{\"attributes\":{\"source\":{\"id\":\"b287d82e-2c70-48b5-abd1-e6ba05da1535\",\"type\":\"ColumnDataSource\"}},\"id\":\"e314002b-8cd5-4d28-814b-7d047d42beca\",\"type\":\"CDSView\"},{\"attributes\":{\"line_alpha\":0.1,\"line_color\":\"#1f77b4\",\"line_width\":2,\"x\":{\"field\":\"x\"},\"y\":{\"field\":\"y\"}},\"id\":\"a2494d17-d3c8-433e-9626-acc87d7ebbd5\",\"type\":\"Line\"},{\"attributes\":{\"label\":{\"value\":\"NY\"},\"renderers\":[{\"id\":\"2bd5f458-4ed5-464a-a5c1-da5ff071410f\",\"type\":\"GlyphRenderer\"}]},\"id\":\"93c42ff9-9eb1-49f4-a0a8-73ee2438e111\",\"type\":\"LegendItem\"},{\"attributes\":{\"line_alpha\":0.1,\"line_color\":\"#1f77b4\",\"line_width\":2,\"x\":{\"field\":\"x\"},\"y\":{\"field\":\"y\"}},\"id\":\"11ec9187-b28b-4f23-bb4c-1f262350af3e\",\"type\":\"Line\"},{\"attributes\":{\"line_color\":\"#d62728\",\"line_width\":2,\"x\":{\"field\":\"x\"},\"y\":{\"field\":\"y\"}},\"id\":\"5209d8cb-fb0c-4678-bb75-a5d56d9ce9df\",\"type\":\"Line\"},{\"attributes\":{\"line_alpha\":0.2,\"line_color\":\"#9467bd\",\"line_width\":2,\"x\":{\"field\":\"x\"},\"y\":{\"field\":\"y\"}},\"id\":\"cede1366-2e59-44ca-8b18-9ce0fc6404e6\",\"type\":\"Line\"},{\"attributes\":{\"line_color\":\"#f7b6d2\",\"line_width\":2,\"x\":{\"field\":\"x\"},\"y\":{\"field\":\"y\"}},\"id\":\"288d9e6c-d136-44ca-a433-b546bd9035b5\",\"type\":\"Line\"},{\"attributes\":{\"callback\":null,\"column_names\":[\"x\",\"y\"],\"data\":{\"x\":[1990,1991,1992,1993,1994,1995,1996,1997,1998,1999,2000,2001,2002,2003,2004,2005,2006,2007,2008,2009,2010,2011,2012,2013,2014,2015,2016,2017],\"y\":{\"__ndarray__\":\"br/+FPdNTT8//RomtNp+P2yy0dyG5IE/RgSefGScgT9QxwceVZWDP/y0Y/SPdXw/UtQ0VsX+fj+gLcclKjuDP98a4CKOWHo/EomoM8FFgD86PIi3qxiQPxlP58WRkn4/gOdeMjikeT9IEcu01AV9P1nbt6x1wIE/Z6h5lfbOgj+InZubuDOAP8/vqhRtroE/9Z3edI/2gT+uS8/72nuAPxdCuo0hKYM//2BIFoDvgz81i/dx8xN5P+ndScR+UXw/nYHiAzrBez/fGuAijlh6P0ezV480anU/Y54hTma5cz8=\",\"dtype\":\"float64\",\"shape\":[28]}},\"selected\":null,\"selection_policy\":null},\"id\":\"4ff8ee47-c3c2-4c7d-94e4-19bbba2a0e04\",\"type\":\"ColumnDataSource\"},{\"attributes\":{\"callback\":null,\"column_names\":[\"x\",\"y\"],\"data\":{\"x\":[1990,1991,1992,1993,1994,1995,1996,1997,1998,1999,2000,2001,2002,2003,2004,2005,2006,2007,2008,2009,2010,2011,2012,2013,2014,2015,2016,2017],\"y\":{\"__ndarray__\":\"tfbomL0tSz8oNOtXpHB7P/lcx2c4Qnc/bxVq+DBPez9+cVHDRm94PziQ0iK6kHg/5c0MiSlcfz9KZ1q/4Xp5Pz8+RgjFIHc/TeL6kPNEbT9/zWpkOu2DP5TDeTGAI30/JhVkJ4Ykgz9cPuJbCWV6P9/Xy+UFyHc/OJDSIrqQeD+NzTiOXI91P50pIFlyr3I/aR8pVQ27cz/Urrcu6W11P5tx7RaLs3s/Z2f2Eia/fD+DpCTXPzVzP68AqPWZmXM/ilKYvErFcT8zXf8OwcptP9EzF13Xo3E/WcNBiveadj8=\",\"dtype\":\"float64\",\"shape\":[28]}},\"selected\":null,\"selection_policy\":null},\"id\":\"27680b33-0852-4ff7-b617-a3be0436ea5c\",\"type\":\"ColumnDataSource\"}],\"root_ids\":[\"6985ef14-2246-4056-b3d9-7f1b0fd82b44\"]},\"title\":\"Bokeh Application\",\"version\":\"0.12.15\"}};\n",
       "  var render_items = [{\"docid\":\"29890262-2eae-4ab8-a58f-743379ae8550\",\"elementid\":\"a6670add-8644-4bcf-a010-82c8d8eca546\",\"modelid\":\"6985ef14-2246-4056-b3d9-7f1b0fd82b44\"}];\n",
       "  root.Bokeh.embed.embed_items_notebook(docs_json, render_items);\n",
       "\n",
       "  }\n",
       "  if (root.Bokeh !== undefined) {\n",
       "    embed_document(root);\n",
       "  } else {\n",
       "    var attempts = 0;\n",
       "    var timer = setInterval(function(root) {\n",
       "      if (root.Bokeh !== undefined) {\n",
       "        embed_document(root);\n",
       "        clearInterval(timer);\n",
       "      }\n",
       "      attempts++;\n",
       "      if (attempts > 100) {\n",
       "        console.log(\"Bokeh: ERROR: Unable to run BokehJS code because BokehJS library is missing\")\n",
       "        clearInterval(timer);\n",
       "      }\n",
       "    }, 10, root)\n",
       "  }\n",
       "})(window);"
      ],
      "application/vnd.bokehjs_exec.v0+json": ""
     },
     "metadata": {
      "application/vnd.bokehjs_exec.v0+json": {
       "id": "6985ef14-2246-4056-b3d9-7f1b0fd82b44"
      }
     },
     "output_type": "display_data"
    }
   ],
   "source": [
    "from bokeh.palettes import Category20\n",
    "from bokeh.plotting import figure, output_file, show\n",
    "from bokeh.models import Legend, HoverTool\n",
    "\n",
    "\n",
    "p = figure(plot_width=950, plot_height=800, tools=[hover], x_axis_label='Years', y_axis_label='Malpractice cases filed per 10,000')\n",
    "p.title.text = \"Malpractice case per 10,000 citizens per year for a group of states which successfully diminished this number in the last two decades.\"\n",
    "\n",
    "\n",
    "for state, color in zip(common_states[np.where(db==2)], Category20[20]):\n",
    "    #print(state)\n",
    "    curve = pd.DataFrame([100*len(data[(data[\"WORKSTAT\"]==state) & (data[\"ORIGYEAR\"]==year)])/state_pop[state_pop[\"State Abb\"]==state][2016][0] for year in range(1990,2018)], index=range(1990,2018),columns=[state])\n",
    "    #print(curve)\n",
    "    plt.plot(range(1990,2018),curve,label=i,marker='.')\n",
    "    p.line(curve.index, curve[state],line_width=2, color=color, alpha=1.,\n",
    "           muted_color=color, muted_alpha=0.2, legend=state)\n",
    "\n",
    "\n",
    "p.legend.location = \"top_left\"\n",
    "p.legend.click_policy=\"mute\"\n",
    "\n",
    "from bokeh.io import save, output_notebook\n",
    "output_notebook()\n",
    "\n",
    "#output_file(\"interactive_legend.html\", title=\"interactive_legend.py example\")\n",
    "\n",
    "show(p)"
   ]
  },
  {
   "cell_type": "code",
   "execution_count": null,
   "metadata": {},
   "outputs": [],
   "source": []
  }
 ],
 "metadata": {
  "kernelspec": {
   "display_name": "Python 3",
   "language": "python",
   "name": "python3"
  },
  "language_info": {
   "codemirror_mode": {
    "name": "ipython",
    "version": 3
   },
   "file_extension": ".py",
   "mimetype": "text/x-python",
   "name": "python",
   "nbconvert_exporter": "python",
   "pygments_lexer": "ipython3",
   "version": "3.6.4"
  }
 },
 "nbformat": 4,
 "nbformat_minor": 2
}
